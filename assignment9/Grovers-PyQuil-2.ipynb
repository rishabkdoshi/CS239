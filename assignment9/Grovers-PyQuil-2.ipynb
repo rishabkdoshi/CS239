{
 "cells": [
  {
   "cell_type": "markdown",
   "metadata": {},
   "source": [
    "# Headers Required"
   ]
  },
  {
   "cell_type": "code",
   "execution_count": 1,
   "metadata": {},
   "outputs": [],
   "source": [
    "%matplotlib inline\n",
    "import matplotlib.pyplot as plt\n",
    "import numpy as np\n",
    "import time\n",
    "import itertools as itert\n",
    "from pyquil import Program\n",
    "import pyquil.api as api\n",
    "from pyquil.quil import DefGate\n",
    "from pyquil.gates import *\n",
    "from pyquil import get_qc\n",
    "from pyquil.quilatom import unpack_qubit"
   ]
  },
  {
   "cell_type": "markdown",
   "metadata": {},
   "source": [
    "# Defining our current function\n",
    "\n",
    "\n",
    "#### This is a random function generator which gives a, b for current running instance.\n",
    "\n",
    "#### This helps ensure that our test cases are not biased"
   ]
  },
  {
   "cell_type": "code",
   "execution_count": 2,
   "metadata": {},
   "outputs": [],
   "source": [
    "def function_generator(n):\n",
    "    # a- binary string of length n\n",
    "    curr_index= np.random.randint(low=0,high=n,size=1)[0]\n",
    "    a=[0]*n\n",
    "    a[curr_index]=1\n",
    "    #a = np.random.randint(low=0, high=2, size=n)\n",
    "    print (\"This is the (randomly chosen) value of a: \", a)\n",
    "    # b- single bit binary digit\n",
    "    #b = np.random.randint(low=0, high=2, size=1)\n",
    "    #print (\"This is the (randomly chosen) value of b: \", b)\n",
    "    #return a,b\n",
    "    return a"
   ]
  },
  {
   "cell_type": "markdown",
   "metadata": {},
   "source": [
    "# Creating the Uf Matrix\n",
    "\n",
    "#### The code differs from the Deutsch Jozsa algorithm only in terms of parameters and function application.\n",
    "#### Using class to block user access to Uf and treat Uf as blackbox oracle "
   ]
  },
  {
   "cell_type": "code",
   "execution_count": 3,
   "metadata": {},
   "outputs": [],
   "source": [
    "class Uf: \n",
    "    #this function creates the blackbox oracle Uf matrix for a given function f that is parameterised for input size n\n",
    "    #def __blackboxUf(self,n,a,b):\n",
    "    def __blackboxUf(self,n,a):\n",
    "        #this dictionary represents the correspondence between bit combinations and Uf indices\n",
    "        indices_dict = {}\n",
    "        counter = 0\n",
    "        Uf = np.zeros((2**(n+1),2**(n+1)))\n",
    "        \n",
    "        bfx = 0\n",
    "\n",
    "        # the for loops given below form the different pattern combinations that we need. The mapping between these combination and Uf matrix indices is stored in indices_dict\n",
    "        for i in range(2**(n+1)):\n",
    "        \n",
    "            binary_form = ('{0:0'+str(n+1)+'b}').format(i) \n",
    "            indices_dict[binary_form] = counter\n",
    "            counter += 1\n",
    "\n",
    "        #print(indices_dict)\n",
    "        #we then iterate through this pattern dictionary\n",
    "        for key,val in indices_dict.items():\n",
    "        \n",
    "            #input to the function is the first n bits of the elements (bit patterns) from the dictionary\n",
    "            x = key[0:n]\n",
    "            #print(\"X= \", x)\n",
    "            curr_dot_product = 0\n",
    "            #for k, expand_q in enumerate(x):\n",
    "                #print(x)\n",
    "                #print(k)\n",
    "                #curr_dot_product += a[k] * int(expand_q)\n",
    "            for i in range(0,n):\n",
    "                curr_dot_product += a[i] * int(x[i])\n",
    "            curr_dot_product %= 2\n",
    "            #curr_dot_product= int(curr_dot_product) + int(b)\n",
    "            #curr_dot_product %= 2\n",
    "        \n",
    "            # f from current string\n",
    "        \n",
    "            fx= str(curr_dot_product) \n",
    "        \n",
    "            #fx represents the output of function f given the input x\n",
    "            #fx = str(f(x))\n",
    "        \n",
    "            #b1 is the last bit of the bit pattern in the dictionary item\n",
    "            b1 = key[n]\n",
    "        \n",
    "            #below we have the (f(x) + b) mod 2\n",
    "            if(b1==fx):\n",
    "                bfx = '0'\n",
    "            else:\n",
    "                bfx = '1'\n",
    "                # print(bfx)\n",
    "        \n",
    "            #the final bit string is the concatenation of the input x and bfx\n",
    "            target = x + bfx\n",
    "            # print('t',target)\n",
    "        \n",
    "            #using indices_dict we can now find the index that corresponds to this output\n",
    "            target_index = indices_dict[target]\n",
    "            # print(val,target_index)\n",
    "        \n",
    "            #now using the target indiex we can create a bit pattern with all 0s and 1 at the target index position\n",
    "            Uf[val][target_index] = 1\n",
    "        \n",
    "        return Uf\n",
    "    #def createUf(self,n,a,b):\n",
    "    def createUf(self,n,a):\n",
    "        #return self.__blackboxUf(n,a,b)\n",
    "        return self.__blackboxUf(n,a)"
   ]
  },
  {
   "cell_type": "markdown",
   "metadata": {},
   "source": [
    "# Create Z_0"
   ]
  },
  {
   "cell_type": "code",
   "execution_count": 4,
   "metadata": {},
   "outputs": [],
   "source": [
    "def createz0 (n):\n",
    "    matrix_z= np.eye(2**(n+1))\n",
    "    matrix_z[0][0]=-1\n",
    "    matrix_z=(-1)*matrix_z\n",
    "    return matrix_z\n",
    "\n"
   ]
  },
  {
   "cell_type": "markdown",
   "metadata": {},
   "source": [
    "# Creating our main circuit\n",
    "\n",
    "* This circuit will be used to find 'a'. [Displayed in Results]\n",
    "\n",
    "* Implementation similar to Deutsch Jozsa except in terms of params and some function calls.\n",
    "\n",
    "* After measurement, the last bit can be discarded as its the result from the helper bit. All other bits denote 'a'\n",
    "\n",
    "* for n=1, circuit should look like\n",
    "\n",
    "###### |0> - H - | Uf |- H - M -\n",
    "###### |1> - H - |___|- x\n",
    "\n",
    "\n"
   ]
  },
  {
   "cell_type": "code",
   "execution_count": 5,
   "metadata": {},
   "outputs": [],
   "source": [
    "#def runMainCircuit(function,n,nTrials):\n",
    "def runMainCircuit():\n",
    "    \n",
    "    \n",
    "    # Taking the input n from the user\n",
    "    n= int(input(\"Enter length of function input [Don't include helper bit in n and ONLY Integer Values Allowed]: \"))\n",
    "    \n",
    "    # number of iterations\n",
    "    num_of_iterations = max(1, int(np.sqrt(2**(n-2))))\n",
    "    \n",
    "    # creating an instance of Uf\n",
    "    \n",
    "    uf = Uf()\n",
    "    # generating my function\n",
    "    print (\"\\n\\n-----------This function is not accessible to user-----------\")\n",
    "    print (\"Function generator output shown for verification/ proof of correctness \")\n",
    "    \n",
    "    #curr_a, curr_b = function_generator(n)\n",
    "    curr_a=function_generator(n)\n",
    "    print (\"-----------Restricted section over-----------\\n\\n\")\n",
    "    \n",
    "    \n",
    "    \n",
    "    \n",
    "    \n",
    "    # adding Uf gate\n",
    "    \n",
    "    # creating our Uf matrix \n",
    "    \n",
    "    \n",
    "    UfMatrix = uf.createUf(n,curr_a) \n",
    "    GateName = \"UF_GATE_GROVER\"\n",
    "    print(\"Uf Matrix obtained: \\n\", UfMatrix)\n",
    "    \n",
    "    matrix_z0= createz0(n)\n",
    "    Gate0=\"minus_Z0\"\n",
    "    \n",
    "    \n",
    "    \n",
    "    \n",
    "    # one extra bit as our helper bit \n",
    "    n = n+1\n",
    "    \n",
    "    #defining a gate using its name and matrix\n",
    "    uf_gate_definition = DefGate(GateName, UfMatrix)\n",
    "    qubits = [unpack_qubit(i) for i in range(0,n)]\n",
    "    z0_gate = DefGate(Gate0,matrix_z0)\n",
    "    \n",
    "    \n",
    "    # defining start of PyQuil program\n",
    "    p = Program()\n",
    "    \n",
    "    qc_name = \"{}q-qvm\".format(n)\n",
    "    \n",
    "    # Get our QuantumComputer instance, with a Quantum Virutal Machine (QVM) backend\n",
    "    \n",
    "    qc = get_qc(qc_name)\n",
    "    qc.compiler.client.timeout = 600 # number of seconds\n",
    "    \n",
    "    \n",
    "    \n",
    "    # Time taken by program needs to be checked.\n",
    "    start = time. time()    \n",
    "    \n",
    "    # setting last qubit to 1\n",
    "    #p += X(n-1)\n",
    "    \n",
    "    # adding Hadamard gates to all qubits\n",
    "    for i in range(0,n-1):\n",
    "        p += H(i)\n",
    "        \n",
    "    #p+=Program(uf_gate_definition,Gate(name=GateName, params=[],qubits=qubits))\n",
    "    \n",
    "    for _ in range(num_of_iterations):\n",
    "        p += H(n-1)\n",
    "        p+=Program(uf_gate_definition,Gate(name=GateName, params=[],qubits=qubits))\n",
    "        p += H(n-1)\n",
    "        for i in range(0,n-1):\n",
    "                p += H(i)\n",
    "        p += H(n-1)\n",
    "        p+=Program(z0_gate,Gate(name=Gate0, params=[],qubits=qubits))\n",
    "        p += H(n-1)\n",
    "        for i in range(0,n-1):\n",
    "                p += H(i)\n",
    "        \n",
    "        # apply oracle\n",
    "        \n",
    "        #p.inst((\"U_bb\",) + tuple(range(n+1)[::-1]))\n",
    "        # apply H . U_perp . H\n",
    "        #p.inst((\"U_grov\",) + tuple(range(1, n+1)[::-1]))\n",
    "    \n",
    "    \n",
    "    \n",
    "    # helper bit does not require H gate. Result is treated as trash/ garbage\n",
    "    \n",
    "    #for i in range(0,n-1):\n",
    "        #p += H(i)\n",
    "        \n",
    "    # transformed matrix\n",
    "    \n",
    "    #print(\"p at this point:\")\n",
    "    \n",
    "    #print(p)\n",
    "    # measurement result    \n",
    "    results = qc.run_and_measure(p, trials=1)    \n",
    "    print(\"Results: \")\n",
    "    print(results)\n",
    "    qvm = api.QVMConnection()\n",
    "    wavefunc = qvm.wavefunction(p)\n",
    "    outcome_probs = wavefunc.get_outcome_probs()\n",
    "    print (\"The most probable outcome is: |%s>\" % (max(outcome_probs, key=outcome_probs.get)[:-1]))\n",
    "    # histogram of outcome probs\n",
    "    plt.figure(figsize=(8, 6))\n",
    "    plt.bar([i[:-1] for i in outcome_probs.keys()], outcome_probs.values())\n",
    "    plt.show()\n",
    "    end = time. time()\n",
    "    \n",
    "    print(\"Time taken by program: \", end-start)"
   ]
  },
  {
   "cell_type": "markdown",
   "metadata": {},
   "source": [
    "# Grovers - Test Case Examples\n",
    "\n",
    "## Trial 1: n =1"
   ]
  },
  {
   "cell_type": "code",
   "execution_count": 6,
   "metadata": {},
   "outputs": [
    {
     "name": "stdout",
     "output_type": "stream",
     "text": [
      "Enter length of function input [Don't include helper bit in n and ONLY Integer Values Allowed]: 1\n",
      "\n",
      "\n",
      "-----------This function is not accessible to user-----------\n",
      "Function generator output shown for verification/ proof of correctness \n",
      "This is the (randomly chosen) value of a:  [1]\n",
      "-----------Restricted section over-----------\n",
      "\n",
      "\n",
      "Uf Matrix obtained: \n",
      " [[1. 0. 0. 0.]\n",
      " [0. 1. 0. 0.]\n",
      " [0. 0. 0. 1.]\n",
      " [0. 0. 1. 0.]]\n",
      "Results: \n",
      "{0: array([0]), 1: array([1])}\n",
      "The most probable outcome is: |1>\n"
     ]
    },
    {
     "data": {
      "image/png": "[encoded data removed]",
      "text/plain": [
       "<Figure size 576x432 with 1 Axes>"
      ]
     },
     "metadata": {
      "needs_background": "light"
     },
     "output_type": "display_data"
    },
    {
     "name": "stdout",
     "output_type": "stream",
     "text": [
      "Time taken by program:  1.016512155532837\n"
     ]
    }
   ],
   "source": [
    "runMainCircuit()"
   ]
  },
  {
   "cell_type": "markdown",
   "metadata": {},
   "source": [
    "## Trial 2: n=2"
   ]
  },
  {
   "cell_type": "code",
   "execution_count": 7,
   "metadata": {
    "scrolled": true
   },
   "outputs": [
    {
     "name": "stdout",
     "output_type": "stream",
     "text": [
      "Enter length of function input [Don't include helper bit in n and ONLY Integer Values Allowed]: 2\n",
      "\n",
      "\n",
      "-----------This function is not accessible to user-----------\n",
      "Function generator output shown for verification/ proof of correctness \n",
      "This is the (randomly chosen) value of a:  [1, 0]\n",
      "-----------Restricted section over-----------\n",
      "\n",
      "\n",
      "Uf Matrix obtained: \n",
      " [[1. 0. 0. 0. 0. 0. 0. 0.]\n",
      " [0. 1. 0. 0. 0. 0. 0. 0.]\n",
      " [0. 0. 1. 0. 0. 0. 0. 0.]\n",
      " [0. 0. 0. 1. 0. 0. 0. 0.]\n",
      " [0. 0. 0. 0. 0. 1. 0. 0.]\n",
      " [0. 0. 0. 0. 1. 0. 0. 0.]\n",
      " [0. 0. 0. 0. 0. 0. 0. 1.]\n",
      " [0. 0. 0. 0. 0. 0. 1. 0.]]\n",
      "Results: \n",
      "{0: array([0]), 1: array([0]), 2: array([1])}\n",
      "The most probable outcome is: |10>\n"
     ]
    },
    {
     "data": {
      "image/png": "[encoded data removed]",
      "text/plain": [
       "<Figure size 576x432 with 1 Axes>"
      ]
     },
     "metadata": {
      "needs_background": "light"
     },
     "output_type": "display_data"
    },
    {
     "name": "stdout",
     "output_type": "stream",
     "text": [
      "Time taken by program:  1.7829465866088867\n"
     ]
    }
   ],
   "source": [
    "runMainCircuit()"
   ]
  },
  {
   "cell_type": "markdown",
   "metadata": {},
   "source": [
    "## Trial 3: n=3"
   ]
  },
  {
   "cell_type": "code",
   "execution_count": 8,
   "metadata": {},
   "outputs": [
    {
     "name": "stdout",
     "output_type": "stream",
     "text": [
      "Enter length of function input [Don't include helper bit in n and ONLY Integer Values Allowed]: 3\n",
      "\n",
      "\n",
      "-----------This function is not accessible to user-----------\n",
      "Function generator output shown for verification/ proof of correctness \n",
      "This is the (randomly chosen) value of a:  [1, 0, 0]\n",
      "-----------Restricted section over-----------\n",
      "\n",
      "\n",
      "Uf Matrix obtained: \n",
      " [[1. 0. 0. 0. 0. 0. 0. 0. 0. 0. 0. 0. 0. 0. 0. 0.]\n",
      " [0. 1. 0. 0. 0. 0. 0. 0. 0. 0. 0. 0. 0. 0. 0. 0.]\n",
      " [0. 0. 1. 0. 0. 0. 0. 0. 0. 0. 0. 0. 0. 0. 0. 0.]\n",
      " [0. 0. 0. 1. 0. 0. 0. 0. 0. 0. 0. 0. 0. 0. 0. 0.]\n",
      " [0. 0. 0. 0. 1. 0. 0. 0. 0. 0. 0. 0. 0. 0. 0. 0.]\n",
      " [0. 0. 0. 0. 0. 1. 0. 0. 0. 0. 0. 0. 0. 0. 0. 0.]\n",
      " [0. 0. 0. 0. 0. 0. 1. 0. 0. 0. 0. 0. 0. 0. 0. 0.]\n",
      " [0. 0. 0. 0. 0. 0. 0. 1. 0. 0. 0. 0. 0. 0. 0. 0.]\n",
      " [0. 0. 0. 0. 0. 0. 0. 0. 0. 1. 0. 0. 0. 0. 0. 0.]\n",
      " [0. 0. 0. 0. 0. 0. 0. 0. 1. 0. 0. 0. 0. 0. 0. 0.]\n",
      " [0. 0. 0. 0. 0. 0. 0. 0. 0. 0. 0. 1. 0. 0. 0. 0.]\n",
      " [0. 0. 0. 0. 0. 0. 0. 0. 0. 0. 1. 0. 0. 0. 0. 0.]\n",
      " [0. 0. 0. 0. 0. 0. 0. 0. 0. 0. 0. 0. 0. 1. 0. 0.]\n",
      " [0. 0. 0. 0. 0. 0. 0. 0. 0. 0. 0. 0. 1. 0. 0. 0.]\n",
      " [0. 0. 0. 0. 0. 0. 0. 0. 0. 0. 0. 0. 0. 0. 0. 1.]\n",
      " [0. 0. 0. 0. 0. 0. 0. 0. 0. 0. 0. 0. 0. 0. 1. 0.]]\n",
      "Results: \n",
      "{0: array([0]), 1: array([0]), 2: array([1]), 3: array([1])}\n",
      "The most probable outcome is: |100>\n"
     ]
    },
    {
     "data": {
      "image/png": "[encoded data removed]",
      "text/plain": [
       "<Figure size 576x432 with 1 Axes>"
      ]
     },
     "metadata": {
      "needs_background": "light"
     },
     "output_type": "display_data"
    },
    {
     "name": "stdout",
     "output_type": "stream",
     "text": [
      "Time taken by program:  4.7907328605651855\n"
     ]
    }
   ],
   "source": [
    "runMainCircuit()"
   ]
  }
 ],
 "metadata": {
  "kernelspec": {
   "display_name": "Python 3",
   "language": "python",
   "name": "python3"
  },
  "language_info": {
   "codemirror_mode": {
    "name": "ipython",
    "version": 3
   },
   "file_extension": ".py",
   "mimetype": "text/x-python",
   "name": "python",
   "nbconvert_exporter": "python",
   "pygments_lexer": "ipython3",
   "version": "3.7.1"
  }
 },
 "nbformat": 4,
 "nbformat_minor": 2
}
