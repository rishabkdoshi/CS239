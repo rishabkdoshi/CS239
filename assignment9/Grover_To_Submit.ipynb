{
 "cells": [
  {
   "cell_type": "markdown",
   "metadata": {},
   "source": [
    "# Headers"
   ]
  },
  {
   "cell_type": "code",
   "execution_count": 1,
   "metadata": {},
   "outputs": [],
   "source": [
    "%matplotlib inline\n",
    "import matplotlib.pyplot as plt\n",
    "import numpy as np\n",
    "import time\n",
    "import itertools as itert\n",
    "from pyquil import Program\n",
    "import pyquil.api as api\n",
    "from pyquil.quil import DefGate\n",
    "from pyquil.gates import *\n",
    "from pyquil import get_qc\n",
    "from pyquil.quilatom import unpack_qubit"
   ]
  },
  {
   "cell_type": "markdown",
   "metadata": {},
   "source": [
    "# Input possibilities"
   ]
  },
  {
   "cell_type": "code",
   "execution_count": 2,
   "metadata": {},
   "outputs": [],
   "source": [
    "def get_possibilities (n):\n",
    "    # whole- entire set of possible n input values. Totally there are 2**n values.\n",
    "    whole=[]\n",
    "    # this will ensure that all binary values obtained have same length\n",
    "    max_binary_length= len(bin(2**n-1)[2:])\n",
    "    # creating binary values \n",
    "    for i in range(0, 2**n):\n",
    "        # this will represent actual binary value to be obtained\n",
    "        curr_binary=[0]*max_binary_length\n",
    "        # This gives current length of binary. Why is this required?\n",
    "        # SO bin(0) return 0b0 and bin(8) returns 0b1000-> different lengths. \n",
    "        # But we want all our binary values to have same length for simplicity \n",
    "        corresponding_binary= list(bin(i))[2:] # bin returns string, we are turning it into character array/list\n",
    "        # [2:] disregards the initial 0b in 0bx (returned by bin) and considers x which is the binary value  \n",
    "        curr_length= len(corresponding_binary)\n",
    "        for j in range(0, curr_length):\n",
    "            corresponding_binary[j]=int(corresponding_binary[j]) # converting character array to int array\n",
    "        # final binary value obtained\n",
    "        curr_binary[max_binary_length-curr_length:]= corresponding_binary\n",
    "        # adding this value as a possibility\n",
    "        whole.append(curr_binary)\n",
    "    print(\"Input Possibilities: \", whole)\n",
    "    return whole"
   ]
  },
  {
   "cell_type": "markdown",
   "metadata": {},
   "source": [
    "# -Z_0 for G"
   ]
  },
  {
   "cell_type": "code",
   "execution_count": 3,
   "metadata": {},
   "outputs": [],
   "source": [
    "def createz0 (n):\n",
    "    matrix_z= np.eye(2**(n))\n",
    "    matrix_z[0][0]=-1\n",
    "    #for i in range (0,2**n):\n",
    "        #matrix_z[i][i] *= (-1)\n",
    "    print (\" Minus Matrix Z0:\")\n",
    "    print(np.negative(matrix_z))\n",
    "    return np.negative(matrix_z)"
   ]
  },
  {
   "cell_type": "markdown",
   "metadata": {},
   "source": [
    "# Create Z_f"
   ]
  },
  {
   "cell_type": "code",
   "execution_count": 4,
   "metadata": {},
   "outputs": [],
   "source": [
    "class Uf:  \n",
    "    # multiple x st f(x)=1\n",
    "    def __function_generator(self,n):\n",
    "        # a- binary string of length n\n",
    "        #any one bit as 1  out of n bit\n",
    "        curr_index= np.random.randint(low=0,high=n,size=1)[0]\n",
    "        a=[0]*n\n",
    "        a[curr_index]=1\n",
    "        print (\"This is the (randomly chosen) value of a: \", a)\n",
    "        return a\n",
    "    # function with only one string st f(x)=1\n",
    "    def __unique_generator(self,n):\n",
    "        # a- binary string of length n\n",
    "        curr_a= np.random.randint(low=0,high=2,size=n)\n",
    "        print (\"This is the (randomly chosen) value of a: \", curr_a)\n",
    "        return curr_a\n",
    "\n",
    "    #this function creates the blackbox oracle Uf matrix for a given function f that is parameterised for input size n\n",
    "    def __blackboxUf(self,n,a,fn):\n",
    "        uf_matrix = np.eye(2**n)\n",
    "        all_binary= get_possibilities (n)\n",
    "        \n",
    "        #Function_generator\n",
    "        if fn==0:\n",
    "            #unique generator\n",
    "            for i in all_binary:\n",
    "                curr_ind= all_binary.index(i)\n",
    "                if (np.array_equal(a,i)):\n",
    "                    #|x> to -|x> when f(x)=1\n",
    "                    uf_matrix[curr_ind][curr_ind] *= (-1)  \n",
    "        else:\n",
    "            for i in range(0,2**n):\n",
    "                curr_dot_product=0\n",
    "                for k in range (0,n):\n",
    "                    curr_dot_product += a[k] * int(all_binary[i][k])\n",
    "                curr_dot_product %= 2\n",
    "                #|x> to -|x> when f(x)=1\n",
    "                if curr_dot_product == 1 :\n",
    "                    uf_matrix[i][i] *= (-1)\n",
    "        \n",
    "        print (\"UF\\n\", uf_matrix)\n",
    "        return uf_matrix\n",
    "    def createUf(self,n, fn):\n",
    "        #curr_a= self.__function_generator(n)\n",
    "        if (fn==0):\n",
    "            print (\"Only one x st f(x)=1\")\n",
    "            curr_a= self.__unique_generator(n)\n",
    "        else:\n",
    "            print (\"One or more x st f(x)=1\")\n",
    "            curr_a= self.__function_generator(n)\n",
    "        return self.__blackboxUf(n,curr_a,fn)"
   ]
  },
  {
   "cell_type": "markdown",
   "metadata": {},
   "source": [
    "# Main Circuit"
   ]
  },
  {
   "cell_type": "code",
   "execution_count": 5,
   "metadata": {},
   "outputs": [],
   "source": [
    "def runMainCircuit():\n",
    "   \n",
    "    # Taking the input n from the user\n",
    "    n= int(input(\"Enter length of function input [Don't include helper bit in n and ONLY Integer Values Allowed]: \"))\n",
    "    \n",
    "    # one extra bit as our helper bit \n",
    "    #n = n+1\n",
    "    \n",
    "    #Number of Iterations\n",
    "    num_of_iterations = max(1, int(round((np.pi/4)*np.sqrt(2**n)-1/2)))\n",
    "    \n",
    "    print(\"Number of iterations: \", num_of_iterations)\n",
    "\n",
    "    # creating an instance of Uf\n",
    "    uf = Uf()\n",
    "    \n",
    "    # defining start of PyQuil program\n",
    "    p = Program()\n",
    "    \n",
    "    qc_name = \"{}q-qvm\".format(n)\n",
    "    \n",
    "    # Get our QuantumComputer instance, with a Quantum Virutal Machine (QVM) backend\n",
    "    \n",
    "    qc = get_qc(qc_name)\n",
    "    qc.compiler.client.timeout = 600 # number of seconds/ Increasing time out \n",
    "    \n",
    "    # Time taken by program needs to be checked.\n",
    "    start = time. time()\n",
    "    \n",
    "    # creating our Uf matrix \n",
    "    # Selecting fn mapping: unique x or multiple x st f(x)=1\n",
    "    fn_type=np.random.randint(low=0,high=2,size=1)[0]\n",
    "    #creating uf or zf\n",
    "    UfMatrix = uf.createUf(n,fn_type)\n",
    "    \n",
    "    GateName = \"UF_GATE_GROVER\"\n",
    "    \n",
    "    #Zero Matrix\n",
    "    matrix_z0= createz0(n)\n",
    "    Gate0=\"minus_Z0\"\n",
    "    \n",
    "    #defining a gate using its name and matrix\n",
    "    \n",
    "    uf_gate_definition = DefGate(GateName, UfMatrix)\n",
    "    qubits = [unpack_qubit(i) for i in range(0,n)]\n",
    "    \n",
    "    z0_gate = DefGate(Gate0,matrix_z0)\n",
    "    \n",
    "    # adding Hadamard gates to all qubits\n",
    "    for i in range(0,n):\n",
    "        p += H(i)\n",
    "    # adding Uf gate\n",
    "    for k in range(0,num_of_iterations):\n",
    "        print(\"Iteration no: \", k)\n",
    "        p+=Program(uf_gate_definition,Gate(name=GateName, params=[],qubits=qubits))\n",
    "        for i in range(0,n):\n",
    "                p += H(i)\n",
    "        p+=Program(z0_gate,Gate(name=Gate0, params=[],qubits=qubits))\n",
    "        for i in range(0,n):\n",
    "                p += H(i)\n",
    "        print(\"Program uptil now: \", p) \n",
    "      \n",
    "    \n",
    "    \n",
    "    # measurement result    \n",
    "    results = qc.run_and_measure(p, trials=5)\n",
    "    \n",
    "    print(\"Results: \")\n",
    "    print(results)\n",
    "    \n",
    "    end = time. time()\n",
    "    print(\"Time taken by program: \", end-start)"
   ]
  },
  {
   "cell_type": "markdown",
   "metadata": {},
   "source": [
    "# Testing"
   ]
  },
  {
   "cell_type": "markdown",
   "metadata": {},
   "source": [
    "## n=1 "
   ]
  },
  {
   "cell_type": "code",
   "execution_count": 12,
   "metadata": {
    "scrolled": true
   },
   "outputs": [
    {
     "name": "stdout",
     "output_type": "stream",
     "text": [
      "Enter length of function input [Don't include helper bit in n and ONLY Integer Values Allowed]: 1\n",
      "Number of iterations:  1\n",
      "One or more x st f(x)=1\n",
      "This is the (randomly chosen) value of a:  [1]\n",
      "Input Possibilities:  [[0], [1]]\n",
      "UF\n",
      " [[ 1.  0.]\n",
      " [ 0. -1.]]\n",
      " Minus Matrix Z0:\n",
      "[[ 1. -0.]\n",
      " [-0. -1.]]\n",
      "Iteration no:  0\n",
      "Program uptil now:  DEFGATE UF_GATE_GROVER:\n",
      "    1.0, 0\n",
      "    0, -1.0\n",
      "\n",
      "DEFGATE minus_Z0:\n",
      "    1.0, 0\n",
      "    0, -1.0\n",
      "\n",
      "H 0\n",
      "UF_GATE_GROVER 0\n",
      "H 0\n",
      "minus_Z0 0\n",
      "H 0\n",
      "\n",
      "Results: \n",
      "{0: array([1, 0, 1, 1, 0])}\n",
      "Time taken by program:  0.14661026000976562\n"
     ]
    }
   ],
   "source": [
    "runMainCircuit()"
   ]
  },
  {
   "cell_type": "markdown",
   "metadata": {},
   "source": [
    "## n=2"
   ]
  },
  {
   "cell_type": "code",
   "execution_count": 11,
   "metadata": {},
   "outputs": [
    {
     "name": "stdout",
     "output_type": "stream",
     "text": [
      "Enter length of function input [Don't include helper bit in n and ONLY Integer Values Allowed]: 2\n",
      "Number of iterations:  1\n",
      "One or more x st f(x)=1\n",
      "This is the (randomly chosen) value of a:  [0, 1]\n",
      "Input Possibilities:  [[0, 0], [0, 1], [1, 0], [1, 1]]\n",
      "UF\n",
      " [[ 1.  0.  0.  0.]\n",
      " [ 0. -1.  0.  0.]\n",
      " [ 0.  0.  1.  0.]\n",
      " [ 0.  0.  0. -1.]]\n",
      " Minus Matrix Z0:\n",
      "[[ 1. -0. -0. -0.]\n",
      " [-0. -1. -0. -0.]\n",
      " [-0. -0. -1. -0.]\n",
      " [-0. -0. -0. -1.]]\n",
      "Iteration no:  0\n",
      "Program uptil now:  DEFGATE UF_GATE_GROVER:\n",
      "    1.0, 0, 0, 0\n",
      "    0, -1.0, 0, 0\n",
      "    0, 0, 1.0, 0\n",
      "    0, 0, 0, -1.0\n",
      "\n",
      "DEFGATE minus_Z0:\n",
      "    1.0, 0, 0, 0\n",
      "    0, -1.0, 0, 0\n",
      "    0, 0, -1.0, 0\n",
      "    0, 0, 0, -1.0\n",
      "\n",
      "H 0\n",
      "H 1\n",
      "UF_GATE_GROVER 0 1\n",
      "H 0\n",
      "H 1\n",
      "minus_Z0 0 1\n",
      "H 0\n",
      "H 1\n",
      "\n",
      "Results: \n",
      "{0: array([0, 0, 0, 0, 0]), 1: array([1, 1, 1, 1, 0])}\n",
      "Time taken by program:  0.3420863151550293\n"
     ]
    }
   ],
   "source": [
    "runMainCircuit()"
   ]
  },
  {
   "cell_type": "code",
   "execution_count": 8,
   "metadata": {},
   "outputs": [
    {
     "name": "stdout",
     "output_type": "stream",
     "text": [
      "Enter length of function input [Don't include helper bit in n and ONLY Integer Values Allowed]: 2\n",
      "Number of iterations:  1\n",
      "Only one x st f(x)=1\n",
      "This is the (randomly chosen) value of a:  [0 0]\n",
      "Input Possibilities:  [[0, 0], [0, 1], [1, 0], [1, 1]]\n",
      "UF\n",
      " [[-1.  0.  0.  0.]\n",
      " [ 0.  1.  0.  0.]\n",
      " [ 0.  0.  1.  0.]\n",
      " [ 0.  0.  0.  1.]]\n",
      " Minus Matrix Z0:\n",
      "[[ 1. -0. -0. -0.]\n",
      " [-0. -1. -0. -0.]\n",
      " [-0. -0. -1. -0.]\n",
      " [-0. -0. -0. -1.]]\n",
      "Iteration no:  0\n",
      "Program uptil now:  DEFGATE UF_GATE_GROVER:\n",
      "    -1.0, 0, 0, 0\n",
      "    0, 1.0, 0, 0\n",
      "    0, 0, 1.0, 0\n",
      "    0, 0, 0, 1.0\n",
      "\n",
      "DEFGATE minus_Z0:\n",
      "    1.0, 0, 0, 0\n",
      "    0, -1.0, 0, 0\n",
      "    0, 0, -1.0, 0\n",
      "    0, 0, 0, -1.0\n",
      "\n",
      "H 0\n",
      "H 1\n",
      "UF_GATE_GROVER 0 1\n",
      "H 0\n",
      "H 1\n",
      "minus_Z0 0 1\n",
      "H 0\n",
      "H 1\n",
      "\n",
      "Results: \n",
      "{0: array([0, 0, 0, 0, 0]), 1: array([0, 0, 0, 0, 0])}\n",
      "Time taken by program:  0.34009218215942383\n"
     ]
    }
   ],
   "source": [
    "runMainCircuit()"
   ]
  }
 ],
 "metadata": {
  "kernelspec": {
   "display_name": "Python 3",
   "language": "python",
   "name": "python3"
  },
  "language_info": {
   "codemirror_mode": {
    "name": "ipython",
    "version": 3
   },
   "file_extension": ".py",
   "mimetype": "text/x-python",
   "name": "python",
   "nbconvert_exporter": "python",
   "pygments_lexer": "ipython3",
   "version": "3.7.1"
  }
 },
 "nbformat": 4,
 "nbformat_minor": 2
}
