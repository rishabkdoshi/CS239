{
 "cells": [
  {
   "cell_type": "markdown",
   "metadata": {},
   "source": [
    "## Defining Common Util Functions"
   ]
  },
  {
   "cell_type": "code",
   "execution_count": 1,
   "metadata": {},
   "outputs": [],
   "source": [
    "'''\n",
    "Takes a qubitString as input and returns a matrix \n",
    "that represents the qubit in the standard basis.\n",
    "Ex: |00> = [1,0,0,0]\n",
    "'''\n",
    "def getQubitVector(bitString):\n",
    "    bitDict = {}\n",
    "    bitDict['0'] = np.array([1 , 0])\n",
    "    bitDict['1'] = np.array([0 , 1])\n",
    "    matrix = [1]\n",
    "    \n",
    "    for c in bitString:\n",
    "        matrix = np.kron(matrix,bitDict[c])\n",
    "    return matrix\n",
    "\n",
    "'''\n",
    "Given a bitstring, return the decimal number \n",
    "represented by the bitstring\n",
    "'''\n",
    "def getDecimalNo(bitString):\n",
    "    val = 0\n",
    "    n = len(bitString)\n",
    "    for i in range(0,n):\n",
    "        val = val + (2**i)*(int)(bitString[-i-1])\n",
    "    return val\n",
    "\n",
    "'''\n",
    "Given a value of n, returns all possible bit-strings of size n.\n",
    "This function will return a list of 2^n bit strings\n",
    "'''\n",
    "def getAllPossibleNBitStrings(n):\n",
    "    if n==1:\n",
    "        return ['0','1']\n",
    "    \n",
    "    children = getAllPossibleNBitStrings(n-1)\n",
    "    result = []\n",
    "    for i in children:\n",
    "        result.append('0'+i)\n",
    "        result.append('1'+i)\n",
    "    return result"
   ]
  },
  {
   "cell_type": "markdown",
   "metadata": {},
   "source": [
    "## Common function object. \n",
    "This is the base class and all functions Deutsch-Jozsa (balanced, constant), Bernstein-Vazirani(different a and b values) inhert from this class"
   ]
  },
  {
   "cell_type": "code",
   "execution_count": 2,
   "metadata": {},
   "outputs": [],
   "source": [
    "import numpy as np\n",
    "\n",
    "class FunctionObject:\n",
    "    def __init__(self,fx,n):\n",
    "        self.__fx = fx\n",
    "        self.__n = n\n",
    "        self.__Uf = self.__createUf()\n",
    "    \n",
    "    '''\n",
    "    Apply the function on the given input.\n",
    "    '''\n",
    "    def applyFx(self,input):\n",
    "        return self.__fx(input)\n",
    "        \n",
    "    '''\n",
    "    The N value which signifies the no. of qubits.\n",
    "    '''\n",
    "    def getN(self):\n",
    "        return self.__n\n",
    "    \n",
    "    '''\n",
    "    The Uf matrix which represents the oracle for this function\n",
    "    '''\n",
    "    def getUf(self):\n",
    "        return self.__Uf\n",
    "    \n",
    "    '''\n",
    "    Given the function to execute, and the qubits |x1x2..xn> and the ancilla|b>.\n",
    "    This function will return a bit vector representing |x1x2..xn> |b+f(x)>\n",
    "    '''\n",
    "    def getFunctionResult(self,x,ancilla):\n",
    "        fx = self.applyFx(x)\n",
    "        newAncilla = str((((int)(ancilla) + fx)%2))\n",
    "        result = x+newAncilla\n",
    "        return getQubitVector(result)\n",
    "    \n",
    "    '''\n",
    "    Using pointer to f(x) and n denoting the no. of qubits,\n",
    "    it returns an oracle matrix Uf of size 2^(n+1)x2^(n+1) which\n",
    "    can be used in a Deutsch-Jozsa or Bernstein-Vazirani circuit\n",
    "    '''\n",
    "    def __createUf(self):\n",
    "        Uf = np.zeros((2**(self.__n+1),2**(self.__n+1)))    \n",
    "    \n",
    "        #this dictionary represents the correspondence between bit combinations and Uf indices\n",
    "        indices_dict = {}\n",
    "        counter = 0\n",
    "\n",
    "        inputs = getAllPossibleNBitStrings(self.__n+1)\n",
    "\n",
    "        for i in inputs:\n",
    "            #input to the function is the first n bits of the elements (bit patterns) from the dictionary\n",
    "            x = i[0:self.__n]\n",
    "\n",
    "            #fx represents the output of function f given the input x\n",
    "            fx = str(self.applyFx(x))\n",
    "\n",
    "            #b is the last bit of the bit pattern in the dictionary item\n",
    "            b = i[self.__n]\n",
    "\n",
    "            #below we have the (f(x) + b) mod 2\n",
    "            if(b==fx):\n",
    "                bfx = '0'\n",
    "            else:\n",
    "                bfx = '1'\n",
    "                # print(bfx)\n",
    "\n",
    "            #the final bit string is the concatenation of the input x and bfx\n",
    "            result = x + bfx\n",
    "\n",
    "            #using indices_dict we can now find the index that corresponds to this output\n",
    "            column = getDecimalNo(result)\n",
    "            row = getDecimalNo(i)\n",
    "            #now using the target indiex we can create a bit pattern with all 0s and 1 at the target index position\n",
    "            Uf[row][column] = 1        \n",
    "        return Uf\n",
    "    \n",
    "    '''\n",
    "    Given a function and n qubits. This function will verify if the Uf matrix \n",
    "    generated for this function matches the expected output. \n",
    "    i.e., it checks if Uf|x1x2..xn>|b> = |x1x2..xn> |b+f(x)>\n",
    "    '''\n",
    "    def verifyUf(self,debug=False):\n",
    "        \n",
    "        UfMatrix = self.getUf()\n",
    "        if debug:\n",
    "            print(\"\\nUfMatrix for function \\n\"+str(UfMatrix)+\"\\n\")\n",
    "\n",
    "        inputs = getAllPossibleNBitStrings(self.__n+1)\n",
    "        valid = True\n",
    "\n",
    "        for i in inputs:\n",
    "            inputBitVector = getQubitVector(i)\n",
    "\n",
    "            if debug:\n",
    "                print(\"Input BitString {}\".format(i))\n",
    "                print(\"Input BitVector {}\\n\".format(inputBitVector))\n",
    "\n",
    "            functionOutput = self.getFunctionResult(i[0:self.__n],i[self.__n])\n",
    "            UfOutput = np.matmul(UfMatrix,inputBitVector)\n",
    "\n",
    "            if debug:\n",
    "                print(\"\\tUf Output {}\".format(UfOutput))\n",
    "                print(\"\\t F Output {}\\n\".format(functionOutput))\n",
    "\n",
    "            if np.array_equal(UfOutput,functionOutput) is not True:\n",
    "                print(\"ERROR FOR {}\\n\".format(i))\n",
    "                valid=False\n",
    "\n",
    "        return valid"
   ]
  },
  {
   "cell_type": "markdown",
   "metadata": {},
   "source": [
    "## Deutsch Jozsa Function Object\n",
    "A subclass of the function object, this creates a function object for the Deutsch-Jozssa Algorithm."
   ]
  },
  {
   "cell_type": "code",
   "execution_count": 3,
   "metadata": {},
   "outputs": [],
   "source": [
    "import random\n",
    "\n",
    "class DeutschJozsaFunction(FunctionObject):\n",
    "    \n",
    "    '''\n",
    "    Initializes a function object with the passed in fx and ftype values.\n",
    "    If no fx and ftype values are passed, \n",
    "    it will create a balanced or constant function at random and initialize it\n",
    "    '''\n",
    "    def __init__(self,n, fx=None,ftype=None):\n",
    "        if fx is None:\n",
    "            functionObj = self.createRandomDeutschJozsaFunction(n)\n",
    "            fx = functionObj.fx\n",
    "            self.ftype = functionObj.getFunctionType()\n",
    "        else:\n",
    "            self.ftype = ftype\n",
    "        FunctionObject.__init__(self, fx, n)        \n",
    "        \n",
    "    '''\n",
    "    Randomly create a balanced or constant function\n",
    "    '''    \n",
    "    def createRandomDeutschJozsaFunction(self,n):\n",
    "        fTypeOrdinal = random.randint(0,1)\n",
    "        if fTypeOrdinal == 0:\n",
    "            return BalancedFunction(n)\n",
    "        else:\n",
    "            return ConstantFunction(n)\n",
    "        \n",
    "    '''\n",
    "    CONSTANT or BALANCED based on function type \n",
    "    '''\n",
    "    def getType(self):\n",
    "        return self.ftype\n",
    "    \n",
    "\n",
    "class BalancedFunction(DeutschJozsaFunction):\n",
    "    \n",
    "    def __init__(self,n):\n",
    "        # a random bit chosen from 0 to n-1 which will be \n",
    "        # 0 for half inputs and 1 for other half inputs\n",
    "        self.decisionBit = random.randint(0,n-1)\n",
    "        \n",
    "    def fx(self,inputString):\n",
    "        if inputString[self.decisionBit] == '1':\n",
    "            return 1\n",
    "        else:\n",
    "            return 0\n",
    "    \n",
    "    def getFunctionType(self):\n",
    "        return \"BALANCED\"\n",
    "    \n",
    "class ConstantFunction(DeutschJozsaFunction):\n",
    "    def __init__(self,n):\n",
    "        # a random int 0 or 1, which will be the output of this constant function\n",
    "        self.result = random.randint(0,1)\n",
    "        \n",
    "    def fx(self,inputString):\n",
    "        return self.result\n",
    "    \n",
    "    def getFunctionType(self):\n",
    "        return \"CONSTANT\""
   ]
  },
  {
   "cell_type": "markdown",
   "metadata": {},
   "source": [
    "## Quantum Circuit\n",
    "The common quantum circuit used for both Deutsch-Jozsa and Berstein-Vazirani Algorithm.\n",
    "\n",
    "<img src=\"circuit.png\" alt=\"Circuit\" style=\"width: 300px; float: left\"/>"
   ]
  },
  {
   "cell_type": "code",
   "execution_count": 4,
   "metadata": {},
   "outputs": [],
   "source": [
    "from pyquil import Program\n",
    "from pyquil.gates import *\n",
    "from pyquil import get_qc\n",
    "from pyquil.quilatom import unpack_qubit\n",
    "from pyquil.quil import DefGate\n",
    "    \n",
    "def runMainCircuit(functionObj,nTrials,debug=False):\n",
    "    p = Program()\n",
    "\n",
    "    #create a matrix representing Uf\n",
    "    UfMatrix = functionObj.getUf()\n",
    "    \n",
    "    #for a n bit function, we need n+1 qubits(one ancilla bit)\n",
    "    n = functionObj.getN()+1\n",
    "    \n",
    "    qc_name = \"{}q-qvm\".format(n)\n",
    "    qc = get_qc(qc_name)\n",
    "\n",
    "    #setting last qubit to 1\n",
    "    p += X(n-1)\n",
    "    \n",
    "    #adding Hadamard gates to all qubits\n",
    "    for i in range(0,n):\n",
    "        p += H(i)\n",
    "\n",
    "    GateName = \"UF_GATE\"\n",
    "\n",
    "    #create a gate that uses the Uf matrix and pass all qubits to this as input \n",
    "    uf_gate_definition = DefGate(GateName, UfMatrix)\n",
    "    qubits = [unpack_qubit(i) for i in range(0,n)]\n",
    "\n",
    "    #adding Uf gate\n",
    "    p+=Program(uf_gate_definition,Gate(name=GateName, params=[],qubits=qubits))\n",
    "\n",
    "    for i in range(0,n-1):\n",
    "        p += H(i)\n",
    "\n",
    "    if debug:\n",
    "        print(p)\n",
    "        \n",
    "    try:\n",
    "        results = qc.run_and_measure(p, trials=nTrials)\n",
    "    except TimeoutError:        \n",
    "        print(\"Timeout occured for n: {}\".format(n-1))\n",
    "        return []\n",
    "        \n",
    "    return results"
   ]
  },
  {
   "cell_type": "markdown",
   "metadata": {},
   "source": [
    "## Post-Process Quantum Circuit Results\n",
    "\n",
    "Process results of measurement of the above defined quantum circuit to gain information\n",
    "\n",
    "* Function Type in Deutsch-Jozsa\n",
    "* a and b values in Bernstein-Vazirani"
   ]
  },
  {
   "cell_type": "code",
   "execution_count": 5,
   "metadata": {},
   "outputs": [],
   "source": [
    "import time\n",
    "\n",
    "nTrials = 1\n",
    "\n",
    "'''\n",
    "Given a Deutsch-Jozsa functionObject\n",
    "this function returns if its balanced or constant\n",
    "'''\n",
    "def isBalancedOrConstant(functionObj):\n",
    "    start = time.time()\n",
    "    results = runMainCircuit(functionObj,nTrials)\n",
    "    end = time.time()\n",
    "    constant = True\n",
    "    \n",
    "    if len(results) == 0:\n",
    "        return None,None\n",
    "    \n",
    "    for i in range(0,functionObj.getN()):\n",
    "        if results[i][0] != 0:\n",
    "            constant = False\n",
    "            break\n",
    "    \n",
    "    timetaken = end-start\n",
    "    \n",
    "    if constant:\n",
    "        return \"CONSTANT\",timetaken\n",
    "    else:\n",
    "        return \"BALANCED\",timetaken"
   ]
  },
  {
   "cell_type": "markdown",
   "metadata": {},
   "source": [
    "## Experiments with Quantum Circuits"
   ]
  },
  {
   "cell_type": "code",
   "execution_count": 6,
   "metadata": {},
   "outputs": [],
   "source": [
    "'''\n",
    "Driver that verifies the validity of the quantum circuits for different F configurations.\n",
    "Here F is either constant or balanced\n",
    "'''\n",
    "class DeutschJozsaDriver():\n",
    "    def __init__(self,n,fx,fType):\n",
    "        self.functionObj = DeutschJozsaFunction(n,fx,fType)\n",
    "        \n",
    "    def runAndVerifyQuantumCircuit(self,debug=False):\n",
    "        print(\"*\"*20)\n",
    "        if debug:\n",
    "            print(\"Verified that the created Uf matrix is valid: {}\".format(balancedFxN2Object.verifyUf()))\n",
    "\n",
    "        fType,circuitRunTime = isBalancedOrConstant(self.functionObj)\n",
    "        if fType is None:\n",
    "            return\n",
    "        assert fType == self.functionObj.getType()\n",
    "        print(\"N : {} , FnType: {}, Time : {}\".format(self.functionObj.getN(), self.functionObj.getType(), circuitRunTime))\n",
    "        print(\"*\"*20)"
   ]
  },
  {
   "cell_type": "code",
   "execution_count": 7,
   "metadata": {},
   "outputs": [],
   "source": [
    "decisionBit = 0\n",
    "\n",
    "def constantFunction(x):\n",
    "    return 1\n",
    "\n",
    "def balancedFunction(x):\n",
    "    if x[decisionBit] == '1':\n",
    "        return 1\n",
    "    else:\n",
    "        return 0"
   ]
  },
  {
   "cell_type": "markdown",
   "metadata": {},
   "source": [
    "## Simulation 1"
   ]
  },
  {
   "cell_type": "code",
   "execution_count": 8,
   "metadata": {},
   "outputs": [
    {
     "name": "stdout",
     "output_type": "stream",
     "text": [
      "********************\n",
      "N : 1 , FnType: CONSTANT, Time : 0.1192789077758789\n",
      "********************\n",
      "********************\n",
      "N : 2 , FnType: CONSTANT, Time : 0.2233898639678955\n",
      "********************\n",
      "********************\n",
      "Timeout occured for n: 3\n",
      "********************\n",
      "Timeout occured for n: 4\n",
      "********************\n"
     ]
    },
    {
     "ename": "KeyboardInterrupt",
     "evalue": "",
     "output_type": "error",
     "traceback": [
      "\u001b[0;31m---------------------------------------------------------------------------\u001b[0m",
      "\u001b[0;31mKeyboardInterrupt\u001b[0m                         Traceback (most recent call last)",
      "\u001b[0;32m<ipython-input-8-d4d7508bfee1>\u001b[0m in \u001b[0;36m<module>\u001b[0;34m\u001b[0m\n\u001b[1;32m      3\u001b[0m \u001b[0mDeutschJozsaDriver\u001b[0m\u001b[0;34m(\u001b[0m\u001b[0;36m3\u001b[0m\u001b[0;34m,\u001b[0m\u001b[0mconstantFunction\u001b[0m\u001b[0;34m,\u001b[0m\u001b[0;34m'CONSTANT'\u001b[0m\u001b[0;34m)\u001b[0m\u001b[0;34m.\u001b[0m\u001b[0mrunAndVerifyQuantumCircuit\u001b[0m\u001b[0;34m(\u001b[0m\u001b[0;34m)\u001b[0m\u001b[0;34m\u001b[0m\u001b[0m\n\u001b[1;32m      4\u001b[0m \u001b[0mDeutschJozsaDriver\u001b[0m\u001b[0;34m(\u001b[0m\u001b[0;36m4\u001b[0m\u001b[0;34m,\u001b[0m\u001b[0mconstantFunction\u001b[0m\u001b[0;34m,\u001b[0m\u001b[0;34m'CONSTANT'\u001b[0m\u001b[0;34m)\u001b[0m\u001b[0;34m.\u001b[0m\u001b[0mrunAndVerifyQuantumCircuit\u001b[0m\u001b[0;34m(\u001b[0m\u001b[0;34m)\u001b[0m\u001b[0;34m\u001b[0m\u001b[0m\n\u001b[0;32m----> 5\u001b[0;31m \u001b[0mDeutschJozsaDriver\u001b[0m\u001b[0;34m(\u001b[0m\u001b[0;36m5\u001b[0m\u001b[0;34m,\u001b[0m\u001b[0mconstantFunction\u001b[0m\u001b[0;34m,\u001b[0m\u001b[0;34m'CONSTANT'\u001b[0m\u001b[0;34m)\u001b[0m\u001b[0;34m.\u001b[0m\u001b[0mrunAndVerifyQuantumCircuit\u001b[0m\u001b[0;34m(\u001b[0m\u001b[0;34m)\u001b[0m\u001b[0;34m\u001b[0m\u001b[0m\n\u001b[0m\u001b[1;32m      6\u001b[0m \u001b[0mDeutschJozsaDriver\u001b[0m\u001b[0;34m(\u001b[0m\u001b[0;36m6\u001b[0m\u001b[0;34m,\u001b[0m\u001b[0mconstantFunction\u001b[0m\u001b[0;34m,\u001b[0m\u001b[0;34m'CONSTANT'\u001b[0m\u001b[0;34m)\u001b[0m\u001b[0;34m.\u001b[0m\u001b[0mrunAndVerifyQuantumCircuit\u001b[0m\u001b[0;34m(\u001b[0m\u001b[0;34m)\u001b[0m\u001b[0;34m\u001b[0m\u001b[0m\n",
      "\u001b[0;32m<ipython-input-6-ce6e874e54fe>\u001b[0m in \u001b[0;36mrunAndVerifyQuantumCircuit\u001b[0;34m(self, debug)\u001b[0m\n\u001b[1;32m     12\u001b[0m             \u001b[0mprint\u001b[0m\u001b[0;34m(\u001b[0m\u001b[0;34m\"Verified that the created Uf matrix is valid: {}\"\u001b[0m\u001b[0;34m.\u001b[0m\u001b[0mformat\u001b[0m\u001b[0;34m(\u001b[0m\u001b[0mbalancedFxN2Object\u001b[0m\u001b[0;34m.\u001b[0m\u001b[0mverifyUf\u001b[0m\u001b[0;34m(\u001b[0m\u001b[0;34m)\u001b[0m\u001b[0;34m)\u001b[0m\u001b[0;34m)\u001b[0m\u001b[0;34m\u001b[0m\u001b[0m\n\u001b[1;32m     13\u001b[0m \u001b[0;34m\u001b[0m\u001b[0m\n\u001b[0;32m---> 14\u001b[0;31m         \u001b[0mfType\u001b[0m\u001b[0;34m,\u001b[0m\u001b[0mcircuitRunTime\u001b[0m \u001b[0;34m=\u001b[0m \u001b[0misBalancedOrConstant\u001b[0m\u001b[0;34m(\u001b[0m\u001b[0mself\u001b[0m\u001b[0;34m.\u001b[0m\u001b[0mfunctionObj\u001b[0m\u001b[0;34m)\u001b[0m\u001b[0;34m\u001b[0m\u001b[0m\n\u001b[0m\u001b[1;32m     15\u001b[0m         \u001b[0;32mif\u001b[0m \u001b[0mfType\u001b[0m \u001b[0;32mis\u001b[0m \u001b[0;32mNone\u001b[0m\u001b[0;34m:\u001b[0m\u001b[0;34m\u001b[0m\u001b[0m\n\u001b[1;32m     16\u001b[0m             \u001b[0;32mreturn\u001b[0m\u001b[0;34m\u001b[0m\u001b[0m\n",
      "\u001b[0;32m<ipython-input-5-3bdf0b8006c0>\u001b[0m in \u001b[0;36misBalancedOrConstant\u001b[0;34m(functionObj)\u001b[0m\n\u001b[1;32m      9\u001b[0m \u001b[0;32mdef\u001b[0m \u001b[0misBalancedOrConstant\u001b[0m\u001b[0;34m(\u001b[0m\u001b[0mfunctionObj\u001b[0m\u001b[0;34m)\u001b[0m\u001b[0;34m:\u001b[0m\u001b[0;34m\u001b[0m\u001b[0m\n\u001b[1;32m     10\u001b[0m     \u001b[0mstart\u001b[0m \u001b[0;34m=\u001b[0m \u001b[0mtime\u001b[0m\u001b[0;34m.\u001b[0m\u001b[0mtime\u001b[0m\u001b[0;34m(\u001b[0m\u001b[0;34m)\u001b[0m\u001b[0;34m\u001b[0m\u001b[0m\n\u001b[0;32m---> 11\u001b[0;31m     \u001b[0mresults\u001b[0m \u001b[0;34m=\u001b[0m \u001b[0mrunMainCircuit\u001b[0m\u001b[0;34m(\u001b[0m\u001b[0mfunctionObj\u001b[0m\u001b[0;34m,\u001b[0m\u001b[0mnTrials\u001b[0m\u001b[0;34m)\u001b[0m\u001b[0;34m\u001b[0m\u001b[0m\n\u001b[0m\u001b[1;32m     12\u001b[0m     \u001b[0mend\u001b[0m \u001b[0;34m=\u001b[0m \u001b[0mtime\u001b[0m\u001b[0;34m.\u001b[0m\u001b[0mtime\u001b[0m\u001b[0;34m(\u001b[0m\u001b[0;34m)\u001b[0m\u001b[0;34m\u001b[0m\u001b[0m\n\u001b[1;32m     13\u001b[0m     \u001b[0mconstant\u001b[0m \u001b[0;34m=\u001b[0m \u001b[0;32mTrue\u001b[0m\u001b[0;34m\u001b[0m\u001b[0m\n",
      "\u001b[0;32m<ipython-input-4-a0f9e60fdcc2>\u001b[0m in \u001b[0;36mrunMainCircuit\u001b[0;34m(functionObj, nTrials, debug)\u001b[0m\n\u001b[1;32m     40\u001b[0m \u001b[0;34m\u001b[0m\u001b[0m\n\u001b[1;32m     41\u001b[0m     \u001b[0;32mtry\u001b[0m\u001b[0;34m:\u001b[0m\u001b[0;34m\u001b[0m\u001b[0m\n\u001b[0;32m---> 42\u001b[0;31m         \u001b[0mresults\u001b[0m \u001b[0;34m=\u001b[0m \u001b[0mqc\u001b[0m\u001b[0;34m.\u001b[0m\u001b[0mrun_and_measure\u001b[0m\u001b[0;34m(\u001b[0m\u001b[0mp\u001b[0m\u001b[0;34m,\u001b[0m \u001b[0mtrials\u001b[0m\u001b[0;34m=\u001b[0m\u001b[0mnTrials\u001b[0m\u001b[0;34m)\u001b[0m\u001b[0;34m\u001b[0m\u001b[0m\n\u001b[0m\u001b[1;32m     43\u001b[0m     \u001b[0;32mexcept\u001b[0m \u001b[0mTimeoutError\u001b[0m\u001b[0;34m:\u001b[0m\u001b[0;34m\u001b[0m\u001b[0m\n\u001b[1;32m     44\u001b[0m         \u001b[0mprint\u001b[0m\u001b[0;34m(\u001b[0m\u001b[0;34m\"Timeout occured for n: {}\"\u001b[0m\u001b[0;34m.\u001b[0m\u001b[0mformat\u001b[0m\u001b[0;34m(\u001b[0m\u001b[0mn\u001b[0m\u001b[0;34m-\u001b[0m\u001b[0;36m1\u001b[0m\u001b[0;34m)\u001b[0m\u001b[0;34m)\u001b[0m\u001b[0;34m\u001b[0m\u001b[0m\n",
      "\u001b[0;32m~/anaconda2/envs/python3/lib/python3.6/site-packages/pyquil/api/_error_reporting.py\u001b[0m in \u001b[0;36mwrapper\u001b[0;34m(*args, **kwargs)\u001b[0m\n\u001b[1;32m    236\u001b[0m             \u001b[0mglobal_error_context\u001b[0m\u001b[0;34m.\u001b[0m\u001b[0mlog\u001b[0m\u001b[0;34m[\u001b[0m\u001b[0mkey\u001b[0m\u001b[0;34m]\u001b[0m \u001b[0;34m=\u001b[0m \u001b[0mpre_entry\u001b[0m\u001b[0;34m\u001b[0m\u001b[0m\n\u001b[1;32m    237\u001b[0m \u001b[0;34m\u001b[0m\u001b[0m\n\u001b[0;32m--> 238\u001b[0;31m         \u001b[0mval\u001b[0m \u001b[0;34m=\u001b[0m \u001b[0mfunc\u001b[0m\u001b[0;34m(\u001b[0m\u001b[0;34m*\u001b[0m\u001b[0margs\u001b[0m\u001b[0;34m,\u001b[0m \u001b[0;34m**\u001b[0m\u001b[0mkwargs\u001b[0m\u001b[0;34m)\u001b[0m\u001b[0;34m\u001b[0m\u001b[0m\n\u001b[0m\u001b[1;32m    239\u001b[0m \u001b[0;34m\u001b[0m\u001b[0m\n\u001b[1;32m    240\u001b[0m         \u001b[0;31m# poke the return value of that call in\u001b[0m\u001b[0;34m\u001b[0m\u001b[0;34m\u001b[0m\u001b[0m\n",
      "\u001b[0;32m~/anaconda2/envs/python3/lib/python3.6/site-packages/pyquil/api/_quantum_computer.py\u001b[0m in \u001b[0;36mrun_and_measure\u001b[0;34m(self, program, trials)\u001b[0m\n\u001b[1;32m    224\u001b[0m             \u001b[0mprogram\u001b[0m\u001b[0;34m.\u001b[0m\u001b[0minst\u001b[0m\u001b[0;34m(\u001b[0m\u001b[0mMEASURE\u001b[0m\u001b[0;34m(\u001b[0m\u001b[0mq\u001b[0m\u001b[0;34m,\u001b[0m \u001b[0mro\u001b[0m\u001b[0;34m[\u001b[0m\u001b[0mi\u001b[0m\u001b[0;34m]\u001b[0m\u001b[0;34m)\u001b[0m\u001b[0;34m)\u001b[0m\u001b[0;34m\u001b[0m\u001b[0m\n\u001b[1;32m    225\u001b[0m         \u001b[0mprogram\u001b[0m\u001b[0;34m.\u001b[0m\u001b[0mwrap_in_numshots_loop\u001b[0m\u001b[0;34m(\u001b[0m\u001b[0mtrials\u001b[0m\u001b[0;34m)\u001b[0m\u001b[0;34m\u001b[0m\u001b[0m\n\u001b[0;32m--> 226\u001b[0;31m         \u001b[0mexecutable\u001b[0m \u001b[0;34m=\u001b[0m \u001b[0mself\u001b[0m\u001b[0;34m.\u001b[0m\u001b[0mcompile\u001b[0m\u001b[0;34m(\u001b[0m\u001b[0mprogram\u001b[0m\u001b[0;34m)\u001b[0m\u001b[0;34m\u001b[0m\u001b[0m\n\u001b[0m\u001b[1;32m    227\u001b[0m         \u001b[0mbitstring_array\u001b[0m \u001b[0;34m=\u001b[0m \u001b[0mself\u001b[0m\u001b[0;34m.\u001b[0m\u001b[0mrun\u001b[0m\u001b[0;34m(\u001b[0m\u001b[0mexecutable\u001b[0m\u001b[0;34m=\u001b[0m\u001b[0mexecutable\u001b[0m\u001b[0;34m)\u001b[0m\u001b[0;34m\u001b[0m\u001b[0m\n\u001b[1;32m    228\u001b[0m         \u001b[0mbitstring_dict\u001b[0m \u001b[0;34m=\u001b[0m \u001b[0;34m{\u001b[0m\u001b[0;34m}\u001b[0m\u001b[0;34m\u001b[0m\u001b[0m\n",
      "\u001b[0;32m~/anaconda2/envs/python3/lib/python3.6/site-packages/pyquil/api/_error_reporting.py\u001b[0m in \u001b[0;36mwrapper\u001b[0;34m(*args, **kwargs)\u001b[0m\n\u001b[1;32m    236\u001b[0m             \u001b[0mglobal_error_context\u001b[0m\u001b[0;34m.\u001b[0m\u001b[0mlog\u001b[0m\u001b[0;34m[\u001b[0m\u001b[0mkey\u001b[0m\u001b[0;34m]\u001b[0m \u001b[0;34m=\u001b[0m \u001b[0mpre_entry\u001b[0m\u001b[0;34m\u001b[0m\u001b[0m\n\u001b[1;32m    237\u001b[0m \u001b[0;34m\u001b[0m\u001b[0m\n\u001b[0;32m--> 238\u001b[0;31m         \u001b[0mval\u001b[0m \u001b[0;34m=\u001b[0m \u001b[0mfunc\u001b[0m\u001b[0;34m(\u001b[0m\u001b[0;34m*\u001b[0m\u001b[0margs\u001b[0m\u001b[0;34m,\u001b[0m \u001b[0;34m**\u001b[0m\u001b[0mkwargs\u001b[0m\u001b[0;34m)\u001b[0m\u001b[0;34m\u001b[0m\u001b[0m\n\u001b[0m\u001b[1;32m    239\u001b[0m \u001b[0;34m\u001b[0m\u001b[0m\n\u001b[1;32m    240\u001b[0m         \u001b[0;31m# poke the return value of that call in\u001b[0m\u001b[0;34m\u001b[0m\u001b[0;34m\u001b[0m\u001b[0m\n",
      "\u001b[0;32m~/anaconda2/envs/python3/lib/python3.6/site-packages/pyquil/api/_quantum_computer.py\u001b[0m in \u001b[0;36mcompile\u001b[0;34m(self, program, to_native_gates, optimize)\u001b[0m\n\u001b[1;32m    254\u001b[0m \u001b[0;34m\u001b[0m\u001b[0m\n\u001b[1;32m    255\u001b[0m         \u001b[0;32mif\u001b[0m \u001b[0mquilc\u001b[0m\u001b[0;34m:\u001b[0m\u001b[0;34m\u001b[0m\u001b[0m\n\u001b[0;32m--> 256\u001b[0;31m             \u001b[0mnq_program\u001b[0m \u001b[0;34m=\u001b[0m \u001b[0mself\u001b[0m\u001b[0;34m.\u001b[0m\u001b[0mcompiler\u001b[0m\u001b[0;34m.\u001b[0m\u001b[0mquil_to_native_quil\u001b[0m\u001b[0;34m(\u001b[0m\u001b[0mprogram\u001b[0m\u001b[0;34m)\u001b[0m\u001b[0;34m\u001b[0m\u001b[0m\n\u001b[0m\u001b[1;32m    257\u001b[0m         \u001b[0;32melse\u001b[0m\u001b[0;34m:\u001b[0m\u001b[0;34m\u001b[0m\u001b[0m\n\u001b[1;32m    258\u001b[0m             \u001b[0mnq_program\u001b[0m \u001b[0;34m=\u001b[0m \u001b[0mprogram\u001b[0m\u001b[0;34m\u001b[0m\u001b[0m\n",
      "\u001b[0;32m~/anaconda2/envs/python3/lib/python3.6/site-packages/pyquil/api/_error_reporting.py\u001b[0m in \u001b[0;36mwrapper\u001b[0;34m(*args, **kwargs)\u001b[0m\n\u001b[1;32m    236\u001b[0m             \u001b[0mglobal_error_context\u001b[0m\u001b[0;34m.\u001b[0m\u001b[0mlog\u001b[0m\u001b[0;34m[\u001b[0m\u001b[0mkey\u001b[0m\u001b[0;34m]\u001b[0m \u001b[0;34m=\u001b[0m \u001b[0mpre_entry\u001b[0m\u001b[0;34m\u001b[0m\u001b[0m\n\u001b[1;32m    237\u001b[0m \u001b[0;34m\u001b[0m\u001b[0m\n\u001b[0;32m--> 238\u001b[0;31m         \u001b[0mval\u001b[0m \u001b[0;34m=\u001b[0m \u001b[0mfunc\u001b[0m\u001b[0;34m(\u001b[0m\u001b[0;34m*\u001b[0m\u001b[0margs\u001b[0m\u001b[0;34m,\u001b[0m \u001b[0;34m**\u001b[0m\u001b[0mkwargs\u001b[0m\u001b[0;34m)\u001b[0m\u001b[0;34m\u001b[0m\u001b[0m\n\u001b[0m\u001b[1;32m    239\u001b[0m \u001b[0;34m\u001b[0m\u001b[0m\n\u001b[1;32m    240\u001b[0m         \u001b[0;31m# poke the return value of that call in\u001b[0m\u001b[0;34m\u001b[0m\u001b[0;34m\u001b[0m\u001b[0m\n",
      "\u001b[0;32m~/anaconda2/envs/python3/lib/python3.6/site-packages/pyquil/api/_compiler.py\u001b[0m in \u001b[0;36mquil_to_native_quil\u001b[0;34m(self, program)\u001b[0m\n\u001b[1;32m    246\u001b[0m     \u001b[0;32mdef\u001b[0m \u001b[0mquil_to_native_quil\u001b[0m\u001b[0;34m(\u001b[0m\u001b[0mself\u001b[0m\u001b[0;34m,\u001b[0m \u001b[0mprogram\u001b[0m\u001b[0;34m:\u001b[0m \u001b[0mProgram\u001b[0m\u001b[0;34m)\u001b[0m \u001b[0;34m->\u001b[0m \u001b[0mProgram\u001b[0m\u001b[0;34m:\u001b[0m\u001b[0;34m\u001b[0m\u001b[0m\n\u001b[1;32m    247\u001b[0m         \u001b[0mrequest\u001b[0m \u001b[0;34m=\u001b[0m \u001b[0mNativeQuilRequest\u001b[0m\u001b[0;34m(\u001b[0m\u001b[0mquil\u001b[0m\u001b[0;34m=\u001b[0m\u001b[0mprogram\u001b[0m\u001b[0;34m.\u001b[0m\u001b[0mout\u001b[0m\u001b[0;34m(\u001b[0m\u001b[0;34m)\u001b[0m\u001b[0;34m,\u001b[0m \u001b[0mtarget_device\u001b[0m\u001b[0;34m=\u001b[0m\u001b[0mself\u001b[0m\u001b[0;34m.\u001b[0m\u001b[0mtarget_device\u001b[0m\u001b[0;34m)\u001b[0m\u001b[0;34m\u001b[0m\u001b[0m\n\u001b[0;32m--> 248\u001b[0;31m         \u001b[0mresponse\u001b[0m \u001b[0;34m=\u001b[0m \u001b[0mself\u001b[0m\u001b[0;34m.\u001b[0m\u001b[0mclient\u001b[0m\u001b[0;34m.\u001b[0m\u001b[0mcall\u001b[0m\u001b[0;34m(\u001b[0m\u001b[0;34m'quil_to_native_quil'\u001b[0m\u001b[0;34m,\u001b[0m \u001b[0mrequest\u001b[0m\u001b[0;34m)\u001b[0m\u001b[0;34m.\u001b[0m\u001b[0masdict\u001b[0m\u001b[0;34m(\u001b[0m\u001b[0;34m)\u001b[0m  \u001b[0;31m# type: Dict\u001b[0m\u001b[0;34m\u001b[0m\u001b[0m\n\u001b[0m\u001b[1;32m    249\u001b[0m         \u001b[0mnq_program\u001b[0m \u001b[0;34m=\u001b[0m \u001b[0mparse_program\u001b[0m\u001b[0;34m(\u001b[0m\u001b[0mresponse\u001b[0m\u001b[0;34m[\u001b[0m\u001b[0;34m'quil'\u001b[0m\u001b[0;34m]\u001b[0m\u001b[0;34m)\u001b[0m\u001b[0;34m\u001b[0m\u001b[0m\n\u001b[1;32m    250\u001b[0m         \u001b[0mnq_program\u001b[0m\u001b[0;34m.\u001b[0m\u001b[0mnative_quil_metadata\u001b[0m \u001b[0;34m=\u001b[0m \u001b[0mresponse\u001b[0m\u001b[0;34m[\u001b[0m\u001b[0;34m'metadata'\u001b[0m\u001b[0;34m]\u001b[0m\u001b[0;34m\u001b[0m\u001b[0m\n",
      "\u001b[0;32m~/anaconda2/envs/python3/lib/python3.6/site-packages/rpcq/_client.py\u001b[0m in \u001b[0;36mcall\u001b[0;34m(self, method_name, rpc_timeout, *args, **kwargs)\u001b[0m\n\u001b[1;32m    159\u001b[0m             \u001b[0;31m# which would throw an error.\u001b[0m\u001b[0;34m\u001b[0m\u001b[0;34m\u001b[0m\u001b[0m\n\u001b[1;32m    160\u001b[0m             \u001b[0mtimeout\u001b[0m \u001b[0;34m=\u001b[0m \u001b[0mmax\u001b[0m\u001b[0;34m(\u001b[0m\u001b[0;34m(\u001b[0m\u001b[0mstart_time\u001b[0m \u001b[0;34m+\u001b[0m \u001b[0mrpc_timeout\u001b[0m \u001b[0;34m-\u001b[0m \u001b[0mtime\u001b[0m\u001b[0;34m.\u001b[0m\u001b[0mtime\u001b[0m\u001b[0;34m(\u001b[0m\u001b[0;34m)\u001b[0m\u001b[0;34m)\u001b[0m \u001b[0;34m*\u001b[0m \u001b[0;36m1000\u001b[0m\u001b[0;34m,\u001b[0m \u001b[0;36m0\u001b[0m\u001b[0;34m)\u001b[0m \u001b[0;32mif\u001b[0m \u001b[0mrpc_timeout\u001b[0m \u001b[0;32mis\u001b[0m \u001b[0;32mnot\u001b[0m \u001b[0;32mNone\u001b[0m \u001b[0;32melse\u001b[0m \u001b[0;32mNone\u001b[0m\u001b[0;34m\u001b[0m\u001b[0m\n\u001b[0;32m--> 161\u001b[0;31m             \u001b[0;32mif\u001b[0m \u001b[0mself\u001b[0m\u001b[0;34m.\u001b[0m\u001b[0m_socket\u001b[0m\u001b[0;34m.\u001b[0m\u001b[0mpoll\u001b[0m\u001b[0;34m(\u001b[0m\u001b[0mtimeout\u001b[0m\u001b[0;34m)\u001b[0m \u001b[0;34m==\u001b[0m \u001b[0;36m0\u001b[0m\u001b[0;34m:\u001b[0m\u001b[0;34m\u001b[0m\u001b[0m\n\u001b[0m\u001b[1;32m    162\u001b[0m                 \u001b[0;32mraise\u001b[0m \u001b[0mTimeoutError\u001b[0m\u001b[0;34m(\u001b[0m\u001b[0;34mf\"Timeout on client {self.endpoint}, method name {method_name}, class info: {self}\"\u001b[0m\u001b[0;34m)\u001b[0m\u001b[0;34m\u001b[0m\u001b[0m\n\u001b[1;32m    163\u001b[0m \u001b[0;34m\u001b[0m\u001b[0m\n",
      "\u001b[0;32m~/anaconda2/envs/python3/lib/python3.6/site-packages/zmq/sugar/socket.py\u001b[0m in \u001b[0;36mpoll\u001b[0;34m(self, timeout, flags)\u001b[0m\n\u001b[1;32m    692\u001b[0m         \u001b[0mp\u001b[0m \u001b[0;34m=\u001b[0m \u001b[0mself\u001b[0m\u001b[0;34m.\u001b[0m\u001b[0m_poller_class\u001b[0m\u001b[0;34m(\u001b[0m\u001b[0;34m)\u001b[0m\u001b[0;34m\u001b[0m\u001b[0m\n\u001b[1;32m    693\u001b[0m         \u001b[0mp\u001b[0m\u001b[0;34m.\u001b[0m\u001b[0mregister\u001b[0m\u001b[0;34m(\u001b[0m\u001b[0mself\u001b[0m\u001b[0;34m,\u001b[0m \u001b[0mflags\u001b[0m\u001b[0;34m)\u001b[0m\u001b[0;34m\u001b[0m\u001b[0m\n\u001b[0;32m--> 694\u001b[0;31m         \u001b[0mevts\u001b[0m \u001b[0;34m=\u001b[0m \u001b[0mdict\u001b[0m\u001b[0;34m(\u001b[0m\u001b[0mp\u001b[0m\u001b[0;34m.\u001b[0m\u001b[0mpoll\u001b[0m\u001b[0;34m(\u001b[0m\u001b[0mtimeout\u001b[0m\u001b[0;34m)\u001b[0m\u001b[0;34m)\u001b[0m\u001b[0;34m\u001b[0m\u001b[0m\n\u001b[0m\u001b[1;32m    695\u001b[0m         \u001b[0;31m# return 0 if no events, otherwise return event bitfield\u001b[0m\u001b[0;34m\u001b[0m\u001b[0;34m\u001b[0m\u001b[0m\n\u001b[1;32m    696\u001b[0m         \u001b[0;32mreturn\u001b[0m \u001b[0mevts\u001b[0m\u001b[0;34m.\u001b[0m\u001b[0mget\u001b[0m\u001b[0;34m(\u001b[0m\u001b[0mself\u001b[0m\u001b[0;34m,\u001b[0m \u001b[0;36m0\u001b[0m\u001b[0;34m)\u001b[0m\u001b[0;34m\u001b[0m\u001b[0m\n",
      "\u001b[0;32m~/anaconda2/envs/python3/lib/python3.6/site-packages/zmq/sugar/poll.py\u001b[0m in \u001b[0;36mpoll\u001b[0;34m(self, timeout)\u001b[0m\n\u001b[1;32m     97\u001b[0m         \u001b[0;32melif\u001b[0m \u001b[0misinstance\u001b[0m\u001b[0;34m(\u001b[0m\u001b[0mtimeout\u001b[0m\u001b[0;34m,\u001b[0m \u001b[0mfloat\u001b[0m\u001b[0;34m)\u001b[0m\u001b[0;34m:\u001b[0m\u001b[0;34m\u001b[0m\u001b[0m\n\u001b[1;32m     98\u001b[0m             \u001b[0mtimeout\u001b[0m \u001b[0;34m=\u001b[0m \u001b[0mint\u001b[0m\u001b[0;34m(\u001b[0m\u001b[0mtimeout\u001b[0m\u001b[0;34m)\u001b[0m\u001b[0;34m\u001b[0m\u001b[0m\n\u001b[0;32m---> 99\u001b[0;31m         \u001b[0;32mreturn\u001b[0m \u001b[0mzmq_poll\u001b[0m\u001b[0;34m(\u001b[0m\u001b[0mself\u001b[0m\u001b[0;34m.\u001b[0m\u001b[0msockets\u001b[0m\u001b[0;34m,\u001b[0m \u001b[0mtimeout\u001b[0m\u001b[0;34m=\u001b[0m\u001b[0mtimeout\u001b[0m\u001b[0;34m)\u001b[0m\u001b[0;34m\u001b[0m\u001b[0m\n\u001b[0m\u001b[1;32m    100\u001b[0m \u001b[0;34m\u001b[0m\u001b[0m\n\u001b[1;32m    101\u001b[0m \u001b[0;34m\u001b[0m\u001b[0m\n",
      "\u001b[0;32mzmq/backend/cython/_poll.pyx\u001b[0m in \u001b[0;36mzmq.backend.cython._poll.zmq_poll\u001b[0;34m()\u001b[0m\n",
      "\u001b[0;32m~/anaconda2/envs/python3/lib/python3.6/site-packages/zmq/backend/cython/checkrc.pxd\u001b[0m in \u001b[0;36mzmq.backend.cython.checkrc._check_rc\u001b[0;34m()\u001b[0m\n",
      "\u001b[0;31mKeyboardInterrupt\u001b[0m: "
     ]
    }
   ],
   "source": [
    "DeutschJozsaDriver(1,constantFunction,'CONSTANT').runAndVerifyQuantumCircuit()\n",
    "DeutschJozsaDriver(2,constantFunction,'CONSTANT').runAndVerifyQuantumCircuit()\n",
    "DeutschJozsaDriver(3,constantFunction,'CONSTANT').runAndVerifyQuantumCircuit()\n",
    "DeutschJozsaDriver(4,constantFunction,'CONSTANT').runAndVerifyQuantumCircuit()\n",
    "DeutschJozsaDriver(5,constantFunction,'CONSTANT').runAndVerifyQuantumCircuit()\n",
    "DeutschJozsaDriver(6,constantFunction,'CONSTANT').runAndVerifyQuantumCircuit()"
   ]
  },
  {
   "cell_type": "code",
   "execution_count": null,
   "metadata": {},
   "outputs": [],
   "source": [
    "DeutschJozsaDriver(1,balancedFunction,'BALANCED').runAndVerifyQuantumCircuit()\n",
    "DeutschJozsaDriver(2,balancedFunction,'BALANCED').runAndVerifyQuantumCircuit()\n",
    "DeutschJozsaDriver(3,balancedFunction,'BALANCED').runAndVerifyQuantumCircuit()\n",
    "DeutschJozsaDriver(4,balancedFunction,'BALANCED').runAndVerifyQuantumCircuit()\n",
    "DeutschJozsaDriver(5,balancedFunction,'BALANCED').runAndVerifyQuantumCircuit()\n",
    "DeutschJozsaDriver(6,balancedFunction,'BALANCED').runAndVerifyQuantumCircuit()"
   ]
  },
  {
   "cell_type": "code",
   "execution_count": null,
   "metadata": {},
   "outputs": [],
   "source": [
    "DeutschJozsaDriver(5,balancedFunction,'BALANCED').runAndVerifyQuantumCircuit()"
   ]
  },
  {
   "cell_type": "markdown",
   "metadata": {},
   "source": [
    "## Simulation 2"
   ]
  },
  {
   "cell_type": "code",
   "execution_count": null,
   "metadata": {},
   "outputs": [],
   "source": [
    "DeutschJozsaDriver(1,constantFunction,'CONSTANT').runAndVerifyQuantumCircuit()\n",
    "DeutschJozsaDriver(2,constantFunction,'CONSTANT').runAndVerifyQuantumCircuit()\n",
    "DeutschJozsaDriver(3,constantFunction,'CONSTANT').runAndVerifyQuantumCircuit()\n",
    "DeutschJozsaDriver(4,constantFunction,'CONSTANT').runAndVerifyQuantumCircuit()\n",
    "DeutschJozsaDriver(5,constantFunction,'CONSTANT').runAndVerifyQuantumCircuit()\n",
    "DeutschJozsaDriver(6,constantFunction,'CONSTANT').runAndVerifyQuantumCircuit()"
   ]
  },
  {
   "cell_type": "code",
   "execution_count": null,
   "metadata": {},
   "outputs": [],
   "source": [
    "DeutschJozsaDriver(1,balancedFunction,'BALANCED').runAndVerifyQuantumCircuit()\n",
    "DeutschJozsaDriver(2,balancedFunction,'BALANCED').runAndVerifyQuantumCircuit()\n",
    "DeutschJozsaDriver(3,balancedFunction,'BALANCED').runAndVerifyQuantumCircuit()\n",
    "DeutschJozsaDriver(4,balancedFunction,'BALANCED').runAndVerifyQuantumCircuit()\n",
    "DeutschJozsaDriver(5,balancedFunction,'BALANCED').runAndVerifyQuantumCircuit()\n",
    "DeutschJozsaDriver(6,balancedFunction,'BALANCED').runAndVerifyQuantumCircuit()"
   ]
  },
  {
   "cell_type": "code",
   "execution_count": null,
   "metadata": {},
   "outputs": [],
   "source": [
    "DeutschJozsaDriver(5,balancedFunction,'BALANCED').runAndVerifyQuantumCircuit()"
   ]
  },
  {
   "cell_type": "markdown",
   "metadata": {},
   "source": [
    "## Simulation 3"
   ]
  },
  {
   "cell_type": "code",
   "execution_count": null,
   "metadata": {},
   "outputs": [],
   "source": [
    "DeutschJozsaDriver(1,constantFunction,'CONSTANT').runAndVerifyQuantumCircuit()\n",
    "DeutschJozsaDriver(2,constantFunction,'CONSTANT').runAndVerifyQuantumCircuit()\n",
    "DeutschJozsaDriver(3,constantFunction,'CONSTANT').runAndVerifyQuantumCircuit()\n",
    "DeutschJozsaDriver(4,constantFunction,'CONSTANT').runAndVerifyQuantumCircuit()\n",
    "DeutschJozsaDriver(5,constantFunction,'CONSTANT').runAndVerifyQuantumCircuit()\n",
    "DeutschJozsaDriver(6,constantFunction,'CONSTANT').runAndVerifyQuantumCircuit()"
   ]
  },
  {
   "cell_type": "code",
   "execution_count": null,
   "metadata": {},
   "outputs": [],
   "source": [
    "DeutschJozsaDriver(1,balancedFunction,'BALANCED').runAndVerifyQuantumCircuit()\n",
    "DeutschJozsaDriver(2,balancedFunction,'BALANCED').runAndVerifyQuantumCircuit()\n",
    "DeutschJozsaDriver(3,balancedFunction,'BALANCED').runAndVerifyQuantumCircuit()\n",
    "DeutschJozsaDriver(4,balancedFunction,'BALANCED').runAndVerifyQuantumCircuit()\n",
    "DeutschJozsaDriver(5,balancedFunction,'BALANCED').runAndVerifyQuantumCircuit()\n",
    "DeutschJozsaDriver(6,balancedFunction,'BALANCED').runAndVerifyQuantumCircuit()"
   ]
  },
  {
   "cell_type": "code",
   "execution_count": null,
   "metadata": {},
   "outputs": [],
   "source": [
    "DeutschJozsaDriver(5,balancedFunction,'BALANCED').runAndVerifyQuantumCircuit()"
   ]
  },
  {
   "cell_type": "markdown",
   "metadata": {},
   "source": [
    "## Simulation 4"
   ]
  },
  {
   "cell_type": "code",
   "execution_count": null,
   "metadata": {},
   "outputs": [],
   "source": [
    "DeutschJozsaDriver(1,constantFunction,'CONSTANT').runAndVerifyQuantumCircuit()\n",
    "DeutschJozsaDriver(2,constantFunction,'CONSTANT').runAndVerifyQuantumCircuit()\n",
    "DeutschJozsaDriver(3,constantFunction,'CONSTANT').runAndVerifyQuantumCircuit()\n",
    "DeutschJozsaDriver(4,constantFunction,'CONSTANT').runAndVerifyQuantumCircuit()\n",
    "DeutschJozsaDriver(5,constantFunction,'CONSTANT').runAndVerifyQuantumCircuit()\n",
    "DeutschJozsaDriver(6,constantFunction,'CONSTANT').runAndVerifyQuantumCircuit()"
   ]
  },
  {
   "cell_type": "code",
   "execution_count": null,
   "metadata": {},
   "outputs": [],
   "source": [
    "DeutschJozsaDriver(1,balancedFunction,'BALANCED').runAndVerifyQuantumCircuit()\n",
    "DeutschJozsaDriver(2,balancedFunction,'BALANCED').runAndVerifyQuantumCircuit()\n",
    "DeutschJozsaDriver(3,balancedFunction,'BALANCED').runAndVerifyQuantumCircuit()\n",
    "DeutschJozsaDriver(4,balancedFunction,'BALANCED').runAndVerifyQuantumCircuit()\n",
    "DeutschJozsaDriver(5,balancedFunction,'BALANCED').runAndVerifyQuantumCircuit()\n",
    "DeutschJozsaDriver(6,balancedFunction,'BALANCED').runAndVerifyQuantumCircuit()"
   ]
  },
  {
   "cell_type": "code",
   "execution_count": null,
   "metadata": {},
   "outputs": [],
   "source": [
    "DeutschJozsaDriver(5,balancedFunction,'BALANCED').runAndVerifyQuantumCircuit()"
   ]
  },
  {
   "cell_type": "markdown",
   "metadata": {},
   "source": [
    "## Simulation 5"
   ]
  },
  {
   "cell_type": "code",
   "execution_count": null,
   "metadata": {},
   "outputs": [],
   "source": [
    "DeutschJozsaDriver(1,constantFunction,'CONSTANT').runAndVerifyQuantumCircuit()\n",
    "DeutschJozsaDriver(2,constantFunction,'CONSTANT').runAndVerifyQuantumCircuit()\n",
    "DeutschJozsaDriver(3,constantFunction,'CONSTANT').runAndVerifyQuantumCircuit()\n",
    "DeutschJozsaDriver(4,constantFunction,'CONSTANT').runAndVerifyQuantumCircuit()\n",
    "DeutschJozsaDriver(5,constantFunction,'CONSTANT').runAndVerifyQuantumCircuit()\n",
    "DeutschJozsaDriver(6,constantFunction,'CONSTANT').runAndVerifyQuantumCircuit()"
   ]
  },
  {
   "cell_type": "code",
   "execution_count": null,
   "metadata": {},
   "outputs": [],
   "source": [
    "DeutschJozsaDriver(1,balancedFunction,'BALANCED').runAndVerifyQuantumCircuit()\n",
    "DeutschJozsaDriver(2,balancedFunction,'BALANCED').runAndVerifyQuantumCircuit()\n",
    "DeutschJozsaDriver(3,balancedFunction,'BALANCED').runAndVerifyQuantumCircuit()\n",
    "DeutschJozsaDriver(4,balancedFunction,'BALANCED').runAndVerifyQuantumCircuit()\n",
    "DeutschJozsaDriver(5,balancedFunction,'BALANCED').runAndVerifyQuantumCircuit()\n",
    "DeutschJozsaDriver(6,balancedFunction,'BALANCED').runAndVerifyQuantumCircuit()"
   ]
  },
  {
   "cell_type": "code",
   "execution_count": null,
   "metadata": {},
   "outputs": [],
   "source": [
    "# DeutschJozsaDriver(5,balancedFunction,'BALANCED').runAndVerifyQuantumCircuit()"
   ]
  },
  {
   "cell_type": "code",
   "execution_count": null,
   "metadata": {},
   "outputs": [],
   "source": []
  }
 ],
 "metadata": {
  "kernelspec": {
   "display_name": "Python 3",
   "language": "python",
   "name": "python3"
  },
  "language_info": {
   "codemirror_mode": {
    "name": "ipython",
    "version": 3
   },
   "file_extension": ".py",
   "mimetype": "text/x-python",
   "name": "python",
   "nbconvert_exporter": "python",
   "pygments_lexer": "ipython3",
   "version": "3.6.0"
  }
 },
 "nbformat": 4,
 "nbformat_minor": 2
}
