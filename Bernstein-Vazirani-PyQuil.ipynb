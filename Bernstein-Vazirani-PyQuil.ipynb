{
 "cells": [
  {
   "cell_type": "markdown",
   "metadata": {},
   "source": [
    "# Assignment - 8 Description\n",
    "\n",
    "In PyQuil, implement the Deutsch-Jozsa algorithm and the Bernstein-Vazirani algorithm.  Write detailed comments in the code about why it works.  Run the programs on the simulator.  Write a report that covers the following three points.\n",
    "\n",
    "1. Design\n",
    "\n",
    "    * Present the design of how you implemented the black-box function U_f.  Assess how visually neat and easy to read it is.\n",
    "    * Present the design for how you prevent the user of U_f from accessing the implementation of U_f.  Assess how well you succeeded.\n",
    "    * Present the design of how you parameterized the solution in n.\n",
    "    * Discuss the number of lines and percentage of code that your two programs share.  Assess how well you succeeded in reusing code from one program to the next.\n",
    "\n",
    "\n",
    "2. Evaluation\n",
    "\n",
    "    * Discuss your effort to test the two programs and present results from the testing.  Discuss whether different cases of U_f lead to different execution times.\n",
    "    * What is your experience with scalability as n grows?  Present a diagram that maps n to execution time.\n",
    "\n",
    "3. Instructions\n",
    "\n",
    "    * Present a README file that describes how to input the function f, how to run the program, and how to understand the output.\n",
    "    * Submit three files, one for each program and one with the report."
   ]
  },
  {
   "cell_type": "markdown",
   "metadata": {},
   "source": [
    "# Bernstein- Vazirani: The Problem\n",
    "\n",
    "1. Input: a function f: {0,1}^n → {0,1}.\n",
    "2. Assumption: f(x) = a * x + b.\n",
    "3. Output: a, b.\n",
    "\n",
    "Notation: {0,1}^n is the set of bit strings of length n, a is an unknown bit string of length n, * is inner product mod 2, + is addition mod 2, and b is an unknown single bit."
   ]
  },
  {
   "cell_type": "markdown",
   "metadata": {},
   "source": [
    "# Headers Required"
   ]
  },
  {
   "cell_type": "code",
   "execution_count": 1,
   "metadata": {},
   "outputs": [],
   "source": [
    "import numpy as np\n",
    "import time\n",
    "import itertools as itert\n",
    "from pyquil import Program\n",
    "from pyquil.quil import DefGate\n",
    "from pyquil.gates import *\n",
    "from pyquil import get_qc\n",
    "from pyquil.quilatom import unpack_qubit"
   ]
  },
  {
   "cell_type": "markdown",
   "metadata": {},
   "source": [
    "# Defining our current function\n",
    "\n",
    "\n",
    "#### This is a random function generator which gives a, b for current running instance.\n",
    "\n",
    "#### This helps ensure that our test cases are not biased"
   ]
  },
  {
   "cell_type": "code",
   "execution_count": 2,
   "metadata": {},
   "outputs": [],
   "source": [
    "def function_generator(n):\n",
    "    # a- binary string of length n\n",
    "    a = np.random.randint(low=0, high=2, size=n)\n",
    "    print (\"This is the (randomly chosen) value of a: \", a)\n",
    "    # b- single bit binary digit\n",
    "    b = np.random.randint(low=0, high=2, size=1)\n",
    "    print (\"This is the (randomly chosen) value of b: \", b)\n",
    "    return a,b"
   ]
  },
  {
   "cell_type": "markdown",
   "metadata": {},
   "source": [
    "# Solving for 'b' classically \n",
    "\n",
    "#### As per class notes, Week 3 -> Palsberg; Algorithms: Bernstein-Vazirani File, we solve for 'b' classically and 'a' using quantum computing"
   ]
  },
  {
   "cell_type": "code",
   "execution_count": 3,
   "metadata": {},
   "outputs": [],
   "source": [
    "\n",
    "def solveB (n,a,b):\n",
    "    zero_vec=[0]*n\n",
    "    curr_dot_product=0\n",
    "    for i in range(0,n):\n",
    "        curr_dot_product += a[i] * zero_vec[i]\n",
    "    curr_dot_product %= 2\n",
    "    curr_dot_product+=b\n",
    "    curr_dot_product %= 2\n",
    "    print(\"On solving b classically we get, b = \", curr_dot_product)"
   ]
  },
  {
   "cell_type": "markdown",
   "metadata": {},
   "source": [
    "# Creating the Uf Matrix\n",
    "\n",
    "#### The code differs from the Deutsch Jozsa algorithm only in terms of parameters and function application."
   ]
  },
  {
   "cell_type": "code",
   "execution_count": 4,
   "metadata": {},
   "outputs": [],
   "source": [
    "#this function creates the blackbox oracle Uf matrix for a given function f that is parameterised for input size n\n",
    "\n",
    "def createUf(n,a,b):\n",
    "    \n",
    "    #this dictionary represents the correspondence between bit combinations and Uf indices\n",
    "    indices_dict = {}\n",
    "    counter = 0\n",
    "    Uf = np.zeros((2**(n+1),2**(n+1)))\n",
    "\n",
    "    bfx = 0\n",
    "\n",
    "    # the for loops given below form the different pattern combinations that we need. The mapping between these combination and Uf matrix indices is stored in indices_dict\n",
    "    for i in range(2**(n+1)):\n",
    "        binary_form = ('{0:0'+str(n+1)+'b}').format(i) \n",
    "        indices_dict[binary_form] = counter\n",
    "        counter += 1\n",
    "\n",
    "    #print(indices_dict)\n",
    "    #we then iterate through this pattern dictionary\n",
    "    for key,val in indices_dict.items():\n",
    "        \n",
    "        #input to the function is the first n bits of the elements (bit patterns) from the dictionary\n",
    "        x = key[0:n]\n",
    "        #print(\"X= \", x)\n",
    "        curr_dot_product = 0\n",
    "        #for k, expand_q in enumerate(x):\n",
    "            #print(x)\n",
    "            #print(k)\n",
    "            #curr_dot_product += a[k] * int(expand_q)\n",
    "        for i in range(0,n):\n",
    "            curr_dot_product += a[i] * int(x[i])\n",
    "        curr_dot_product %= 2\n",
    "        curr_dot_product= int(curr_dot_product) + int(b)\n",
    "        curr_dot_product %= 2\n",
    "        \n",
    "        # f from current string\n",
    "        \n",
    "        fx= str(curr_dot_product) \n",
    "        \n",
    "        #fx represents the output of function f given the input x\n",
    "        #fx = str(f(x))\n",
    "        \n",
    "        #b is the last bit of the bit pattern in the dictionary item\n",
    "        b1 = key[n]\n",
    "        \n",
    "        #below we have the (f(x) + b) mod 2\n",
    "        if(b1==fx):\n",
    "            bfx = '0'\n",
    "        else:\n",
    "            bfx = '1'\n",
    "            # print(bfx)\n",
    "        \n",
    "        #the final bit string is the concatenation of the input x and bfx\n",
    "        target = x + bfx\n",
    "        # print('t',target)\n",
    "        \n",
    "        #using indices_dict we can now find the index that corresponds to this output\n",
    "        target_index = indices_dict[target]\n",
    "        # print(val,target_index)\n",
    "        \n",
    "        #now using the target indiex we can create a bit pattern with all 0s and 1 at the target index position\n",
    "        Uf[val][target_index] = 1\n",
    "        \n",
    "    return Uf"
   ]
  },
  {
   "cell_type": "markdown",
   "metadata": {},
   "source": [
    "# Creating our main circuit\n",
    "\n",
    "* This circuit will be used to find 'a'. [Displayed in Results]\n",
    "\n",
    "* Implementation similar to Deutsch Jozsa except in terms of params and some function calls.\n",
    "\n",
    "* After measurement, the last bit can be discarded as its the result from the helper bit. All other bits denote 'a'\n",
    "\n",
    "* for n=1, circuit should look like\n",
    "\n",
    "###### |0> - H - | Uf |- H - M -\n",
    "###### |1> - H - |___|- x\n",
    "\n",
    "\n"
   ]
  },
  {
   "cell_type": "code",
   "execution_count": 5,
   "metadata": {},
   "outputs": [],
   "source": [
    "#def runMainCircuit(function,n,nTrials):\n",
    "def runMainCircuit():\n",
    "    \n",
    "    \n",
    "    # Taking the input n from the user\n",
    "    n= int(input(\"Enter length of function input [Don't include helper bit in n and ONLY Integer Values Allowed]: \"))\n",
    "    \n",
    "    # one extra bit as our helper bit \n",
    "    n = n+1\n",
    "    \n",
    "    # defining start of PyQuil program\n",
    "    p = Program()\n",
    "    \n",
    "    qc_name = \"{}q-qvm\".format(n)\n",
    "    \n",
    "    # Get our QuantumComputer instance, with a Quantum Virutal Machine (QVM) backend\n",
    "    \n",
    "    qc = get_qc(qc_name)\n",
    "    \n",
    "    # Time taken by program needs to be checked.\n",
    "    start = time. time()\n",
    "    \n",
    "    # generating my function\n",
    "    print (\"\\n\\n-----------This function is not accessible to user-----------\")\n",
    "    print (\"Function generator output shown for verification/ proof of correctness \")\n",
    "    \n",
    "    curr_a, curr_b = function_generator(n)\n",
    "    print (\"-----------Restricted section over-----------\\n\\n\")\n",
    "    #classically solving b\n",
    "    \n",
    "    solveB(n-1,curr_a,curr_b)\n",
    "    \n",
    "    # setting last qubit to 1\n",
    "    p += X(n-1)\n",
    "    \n",
    "    # adding Hadamard gates to all qubits\n",
    "    for i in range(0,n):\n",
    "        p += H(i)\n",
    "\n",
    "    # creating our Uf matrix \n",
    "    UfMatrix = createUf(n-1,curr_a,curr_b) \n",
    "    GateName = \"UF_GATE_BV\"\n",
    "    \n",
    "    print(\"Matrix obtained: \\n\", UfMatrix)\n",
    "    \n",
    "    #defining a gate using its name and matrix\n",
    "    \n",
    "    uf_gate_definition = DefGate(GateName, UfMatrix)\n",
    "    qubits = [unpack_qubit(i) for i in range(0,n)]\n",
    "    \n",
    "    # adding Uf gate\n",
    "    \n",
    "    p+=Program(uf_gate_definition,Gate(name=GateName, params=[],qubits=qubits))\n",
    "    \n",
    "    # helper bit does not require H gate. Result is treated as trash/ garbage\n",
    "    \n",
    "    for i in range(0,n-1):\n",
    "        p += H(i)\n",
    "        \n",
    "    # transformed matrix\n",
    "    \n",
    "    #print(\"p at this point:\")\n",
    "    \n",
    "    #print(p)\n",
    "    \n",
    "    # measurement result    \n",
    "    results = qc.run_and_measure(p, trials=1)\n",
    "    \n",
    "    print(\"Results: \")\n",
    "    print(results)\n",
    "    end = time. time()\n",
    "    print(\"Time taken by program: \", end-start)"
   ]
  },
  {
   "cell_type": "markdown",
   "metadata": {},
   "source": [
    "# Bernstein-Vazirani - Test Case Examples\n",
    "\n",
    "## Trial 1: n =1"
   ]
  },
  {
   "cell_type": "code",
   "execution_count": 6,
   "metadata": {},
   "outputs": [
    {
     "name": "stdout",
     "output_type": "stream",
     "text": [
      "Enter length of function input [Don't include helper bit in n and ONLY Integer Values Allowed]: 1\n",
      "\n",
      "\n",
      "-----------This function is not accessible to user-----------\n",
      "Function generator output shown for verification/ proof of correctness \n",
      "This is the (randomly chosen) value of a:  [1 0]\n",
      "This is the (randomly chosen) value of b:  [0]\n",
      "-----------Restricted section over-----------\n",
      "\n",
      "\n",
      "On solving b classically we get, b =  [0]\n",
      "Matrix obtained: \n",
      " [[1. 0. 0. 0.]\n",
      " [0. 1. 0. 0.]\n",
      " [0. 0. 0. 1.]\n",
      " [0. 0. 1. 0.]]\n",
      "Results: \n",
      "{0: array([1]), 1: array([0])}\n",
      "Time taken by program:  0.3182108402252197\n"
     ]
    }
   ],
   "source": [
    "runMainCircuit()"
   ]
  },
  {
   "cell_type": "markdown",
   "metadata": {},
   "source": [
    "## Trial 2: n=2"
   ]
  },
  {
   "cell_type": "code",
   "execution_count": 7,
   "metadata": {
    "scrolled": true
   },
   "outputs": [
    {
     "name": "stdout",
     "output_type": "stream",
     "text": [
      "Enter length of function input [Don't include helper bit in n and ONLY Integer Values Allowed]: 2\n",
      "\n",
      "\n",
      "-----------This function is not accessible to user-----------\n",
      "Function generator output shown for verification/ proof of correctness \n",
      "This is the (randomly chosen) value of a:  [1 0 1]\n",
      "This is the (randomly chosen) value of b:  [0]\n",
      "-----------Restricted section over-----------\n",
      "\n",
      "\n",
      "On solving b classically we get, b =  [0]\n",
      "Matrix obtained: \n",
      " [[1. 0. 0. 0. 0. 0. 0. 0.]\n",
      " [0. 1. 0. 0. 0. 0. 0. 0.]\n",
      " [0. 0. 1. 0. 0. 0. 0. 0.]\n",
      " [0. 0. 0. 1. 0. 0. 0. 0.]\n",
      " [0. 0. 0. 0. 0. 1. 0. 0.]\n",
      " [0. 0. 0. 0. 1. 0. 0. 0.]\n",
      " [0. 0. 0. 0. 0. 0. 0. 1.]\n",
      " [0. 0. 0. 0. 0. 0. 1. 0.]]\n",
      "Results: \n",
      "{0: array([1]), 1: array([0]), 2: array([0])}\n",
      "Time taken by program:  0.5471782684326172\n"
     ]
    }
   ],
   "source": [
    "runMainCircuit()"
   ]
  },
  {
   "cell_type": "markdown",
   "metadata": {},
   "source": [
    "## Trial 3: n=3"
   ]
  },
  {
   "cell_type": "code",
   "execution_count": 12,
   "metadata": {},
   "outputs": [
    {
     "name": "stdout",
     "output_type": "stream",
     "text": [
      "Enter length of function input [Don't include helper bit in n and ONLY Integer Values Allowed]: 3\n",
      "\n",
      "\n",
      "-----------This function is not accessible to user-----------\n",
      "Function generator output shown for verification/ proof of correctness \n",
      "This is the (randomly chosen) value of a:  [1 0 0 1]\n",
      "This is the (randomly chosen) value of b:  [1]\n",
      "-----------Restricted section over-----------\n",
      "\n",
      "\n",
      "On solving b classically we get, b =  [1]\n",
      "Matrix obtained: \n",
      " [[0. 1. 0. 0. 0. 0. 0. 0. 0. 0. 0. 0. 0. 0. 0. 0.]\n",
      " [1. 0. 0. 0. 0. 0. 0. 0. 0. 0. 0. 0. 0. 0. 0. 0.]\n",
      " [0. 0. 0. 1. 0. 0. 0. 0. 0. 0. 0. 0. 0. 0. 0. 0.]\n",
      " [0. 0. 1. 0. 0. 0. 0. 0. 0. 0. 0. 0. 0. 0. 0. 0.]\n",
      " [0. 0. 0. 0. 0. 1. 0. 0. 0. 0. 0. 0. 0. 0. 0. 0.]\n",
      " [0. 0. 0. 0. 1. 0. 0. 0. 0. 0. 0. 0. 0. 0. 0. 0.]\n",
      " [0. 0. 0. 0. 0. 0. 0. 1. 0. 0. 0. 0. 0. 0. 0. 0.]\n",
      " [0. 0. 0. 0. 0. 0. 1. 0. 0. 0. 0. 0. 0. 0. 0. 0.]\n",
      " [0. 0. 0. 0. 0. 0. 0. 0. 1. 0. 0. 0. 0. 0. 0. 0.]\n",
      " [0. 0. 0. 0. 0. 0. 0. 0. 0. 1. 0. 0. 0. 0. 0. 0.]\n",
      " [0. 0. 0. 0. 0. 0. 0. 0. 0. 0. 1. 0. 0. 0. 0. 0.]\n",
      " [0. 0. 0. 0. 0. 0. 0. 0. 0. 0. 0. 1. 0. 0. 0. 0.]\n",
      " [0. 0. 0. 0. 0. 0. 0. 0. 0. 0. 0. 0. 1. 0. 0. 0.]\n",
      " [0. 0. 0. 0. 0. 0. 0. 0. 0. 0. 0. 0. 0. 1. 0. 0.]\n",
      " [0. 0. 0. 0. 0. 0. 0. 0. 0. 0. 0. 0. 0. 0. 1. 0.]\n",
      " [0. 0. 0. 0. 0. 0. 0. 0. 0. 0. 0. 0. 0. 0. 0. 1.]]\n",
      "Results: \n",
      "{0: array([1]), 1: array([0]), 2: array([0]), 3: array([1])}\n",
      "Time taken by program:  2.7287042140960693\n"
     ]
    }
   ],
   "source": [
    "runMainCircuit()"
   ]
  },
  {
   "cell_type": "markdown",
   "metadata": {},
   "source": [
    "## Trial 4: n=4"
   ]
  },
  {
   "cell_type": "code",
   "execution_count": 10,
   "metadata": {},
   "outputs": [
    {
     "name": "stdout",
     "output_type": "stream",
     "text": [
      "Enter length of function input [Don't include helper bit in n and ONLY Integer Values Allowed]: 4\n",
      "\n",
      "\n",
      "-----------This function is not accessible to user-----------\n",
      "Function generator output shown for verification/ proof of correctness \n",
      "This is the (randomly chosen) value of a:  [0 0 0 0 0]\n",
      "This is the (randomly chosen) value of b:  [0]\n",
      "-----------Restricted section over-----------\n",
      "\n",
      "\n",
      "On solving b classically we get, b =  [0]\n",
      "Matrix obtained: \n",
      " [[1. 0. 0. ... 0. 0. 0.]\n",
      " [0. 1. 0. ... 0. 0. 0.]\n",
      " [0. 0. 1. ... 0. 0. 0.]\n",
      " ...\n",
      " [0. 0. 0. ... 1. 0. 0.]\n",
      " [0. 0. 0. ... 0. 1. 0.]\n",
      " [0. 0. 0. ... 0. 0. 1.]]\n",
      "Results: \n",
      "{0: array([0]), 1: array([0]), 2: array([0]), 3: array([0]), 4: array([1])}\n",
      "Time taken by program:  2.09677791595459\n"
     ]
    }
   ],
   "source": [
    "runMainCircuit()"
   ]
  }
 ],
 "metadata": {
  "kernelspec": {
   "display_name": "Python 3",
   "language": "python",
   "name": "python3"
  },
  "language_info": {
   "codemirror_mode": {
    "name": "ipython",
    "version": 3
   },
   "file_extension": ".py",
   "mimetype": "text/x-python",
   "name": "python",
   "nbconvert_exporter": "python",
   "pygments_lexer": "ipython3",
   "version": "3.7.1"
  }
 },
 "nbformat": 4,
 "nbformat_minor": 2
}
