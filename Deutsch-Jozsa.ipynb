{
 "cells": [
  {
   "cell_type": "markdown",
   "metadata": {},
   "source": [
    "## Assignment - 8\n",
    "In PyQuil, implement the Deutsch-Jozsa algorithm and the Bernstein-Vazirani algorithm.  Write detailed comments in the code about why it works.  Run the programs on the simulator.  Write a report that covers the following three points.\n",
    "\n",
    "1. Design\n",
    "\n",
    "    * Present the design of how you implemented the black-box function U_f.  Assess how visually neat and easy to read it is.\n",
    "    * Present the design for how you prevent the user of U_f from accessing the implementation of U_f.  Assess how well you succeeded.\n",
    "    * Present the design of how you parameterized the solution in n.\n",
    "    * Discuss the number of lines and percentage of code that your two programs share.  Assess how well you succeeded in reusing code from one program to the next.\n",
    "\n",
    "\n",
    "2. Evaluation\n",
    "\n",
    "    * Discuss your effort to test the two programs and present results from the testing.  Discuss whether different cases of U_f lead to different execution times.\n",
    "    * What is your experience with scalability as n grows?  Present a diagram that maps n to execution time.\n",
    "\n",
    "3. Instructions\n",
    "\n",
    "    * Present a README file that describes how to input the function f, how to run the program, and how to understand the output.\n",
    "    * Submit three files, one for each program and one with the report."
   ]
  },
  {
   "cell_type": "code",
   "execution_count": null,
   "metadata": {},
   "outputs": [],
   "source": [
    "import numpy as np\n",
    "\n",
    "from pyquil.quil import DefGate\n",
    "\n",
    "'''\n",
    "Takes a gateName and a matrix(numpy array) and returns a quantum gate representing that matrix\n",
    "'''\n",
    "def getQuantumGateFromMatrix(gateName, matrix):\n",
    "    # Get the Quil definition for the new gate\n",
    "    gate_definition = DefGate(name, matrix)\n",
    "    # Get the gate constructor\n",
    "    GATE = gate_definition.get_constructor()\n",
    "    return GATE"
   ]
  },
  {
   "cell_type": "markdown",
   "metadata": {},
   "source": [
    "### Deutsch-Jozsa"
   ]
  },
  {
   "cell_type": "code",
   "execution_count": null,
   "metadata": {},
   "outputs": [],
   "source": [
    "from pyquil import Program\n",
    "from pyquil.gates import *\n",
    "\n",
    "def getNTuple(n):\n",
    "    zeroToNTuple = [()]\n",
    "    for i in range (0,n):\n",
    "        zeroToNTuple.append((i))\n",
    "    zeroToNTuple = tuple(zeroToNTuple)\n",
    "    return zeroToNTuple\n",
    "\n",
    "def main():\n",
    "    p = Program()\n",
    "    functionObj\n",
    "    getUfMatrix(functionObj)\n",
    "    UF_GATE = getQuantumGateFromMatrix(UfMatrix)\n",
    "    p = Program()\n",
    "    \n",
    "    n = functionObj.getN()\n",
    "    qc_name = \"{}q-qvm\".format(str(2**n))\n",
    "    # Get our QuantumComputer instance, with a Quantum Virutal Machine (QVM) backend\n",
    "    qc = get_qc(qc_name)\n",
    "\n",
    "    p += X(n-1)\n",
    "    \n",
    "    for i in range(0,n+1):\n",
    "        p += H(i)\n",
    "        \n",
    "    firstNQubits = getNTuple(n)\n",
    "    \n",
    "    p += UF_GATE(firstNQubits)\n",
    "\n",
    "    results = qc.run_and_measure(p, trials=10)\n",
    "    print(results[0:n])"
   ]
  }
 ],
 "metadata": {
  "kernelspec": {
   "display_name": "Python 3",
   "language": "python",
   "name": "python3"
  },
  "language_info": {
   "codemirror_mode": {
    "name": "ipython",
    "version": 3
   },
   "file_extension": ".py",
   "mimetype": "text/x-python",
   "name": "python",
   "nbconvert_exporter": "python",
   "pygments_lexer": "ipython3",
   "version": "3.6.0"
  }
 },
 "nbformat": 4,
 "nbformat_minor": 2
}
