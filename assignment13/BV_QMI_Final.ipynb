{
 "cells": [
  {
   "cell_type": "markdown",
   "metadata": {},
   "source": [
    "## Defining Common Util Functions"
   ]
  },
  {
   "cell_type": "code",
   "execution_count": 1,
   "metadata": {},
   "outputs": [],
   "source": [
    "'''\n",
    "Takes a qubitString as input and returns a matrix \n",
    "that represents the qubit in the standard basis.\n",
    "Ex: |00> = [1,0,0,0]\n",
    "'''\n",
    "def getQubitVector(bitString):\n",
    "    bitDict = {}\n",
    "    bitDict['0'] = np.array([1 , 0])\n",
    "    bitDict['1'] = np.array([0 , 1])\n",
    "    matrix = [1]\n",
    "    \n",
    "    for c in bitString:\n",
    "        matrix = np.kron(matrix,bitDict[c])\n",
    "    return matrix\n",
    "\n",
    "'''\n",
    "Given a bitstring, return the decimal number \n",
    "represented by the bitstring\n",
    "'''\n",
    "def getDecimalNo(bitString):\n",
    "    val = 0\n",
    "    n = len(bitString)\n",
    "    for i in range(0,n):\n",
    "        val = val + (2**i)*(int)(bitString[-i-1])\n",
    "    return val\n",
    "\n",
    "'''\n",
    "Given a value of n, returns all possible bit-strings of size n.\n",
    "This function will return a list of 2^n bit strings\n",
    "'''\n",
    "def getAllPossibleNBitStrings(n):\n",
    "    if n==1:\n",
    "        return ['0','1']\n",
    "    \n",
    "    children = getAllPossibleNBitStrings(n-1)\n",
    "    result = []\n",
    "    for i in children:\n",
    "        result.append('0'+i)\n",
    "        result.append('1'+i)\n",
    "    return result"
   ]
  },
  {
   "cell_type": "markdown",
   "metadata": {},
   "source": [
    "## Common function object. \n",
    "This is the base class and all functions Deutsch-Jozsa (balanced, constant), Bernstein-Vazirani(different a and b values) inhert from this class"
   ]
  },
  {
   "cell_type": "code",
   "execution_count": 2,
   "metadata": {},
   "outputs": [],
   "source": [
    "import numpy as np\n",
    "\n",
    "class FunctionObject:\n",
    "    def __init__(self,fx,n):\n",
    "        self.__fx = fx\n",
    "        self.__n = n\n",
    "        self.__Uf = self.__createUf()\n",
    "    \n",
    "    '''\n",
    "    Apply the function on the given input.\n",
    "    '''\n",
    "    def applyFx(self,input):\n",
    "        return self.__fx(input)\n",
    "        \n",
    "    '''\n",
    "    The N value which signifies the no. of qubits.\n",
    "    '''\n",
    "    def getN(self):\n",
    "        return self.__n\n",
    "    \n",
    "    '''\n",
    "    The Uf matrix which represents the oracle for this function\n",
    "    '''\n",
    "    def getUf(self):\n",
    "        return self.__Uf\n",
    "    \n",
    "    '''\n",
    "    Given the function to execute, and the qubits |x1x2..xn> and the ancilla|b>.\n",
    "    This function will return a bit vector representing |x1x2..xn> |b+f(x)>\n",
    "    '''\n",
    "    def getFunctionResult(self,x,ancilla):\n",
    "        fx = self.applyFx(x)\n",
    "        newAncilla = str((((int)(ancilla) + fx)%2))\n",
    "        result = x+newAncilla\n",
    "        return getQubitVector(result)\n",
    "    \n",
    "    '''\n",
    "    Using pointer to f(x) and n denoting the no. of qubits,\n",
    "    it returns an oracle matrix Uf of size 2^(n+1)x2^(n+1) which\n",
    "    can be used in a Deutsch-Jozsa or Bernstein-Vazirani circuit\n",
    "    '''\n",
    "    def __createUf(self):\n",
    "        Uf = np.zeros((2**(self.__n+1),2**(self.__n+1)))    \n",
    "    \n",
    "        #this dictionary represents the correspondence between bit combinations and Uf indices\n",
    "        indices_dict = {}\n",
    "        counter = 0\n",
    "\n",
    "        inputs = getAllPossibleNBitStrings(self.__n+1)\n",
    "\n",
    "        for i in inputs:\n",
    "            #input to the function is the first n bits of the elements (bit patterns) from the dictionary\n",
    "            x = i[0:self.__n]\n",
    "\n",
    "            #fx represents the output of function f given the input x\n",
    "            fx = str(self.applyFx(x))\n",
    "\n",
    "            #b is the last bit of the bit pattern in the dictionary item\n",
    "            b = i[self.__n]\n",
    "\n",
    "            #below we have the (f(x) + b) mod 2\n",
    "            if(b==fx):\n",
    "                bfx = '0'\n",
    "            else:\n",
    "                bfx = '1'\n",
    "                # print(bfx)\n",
    "\n",
    "            #the final bit string is the concatenation of the input x and bfx\n",
    "            result = x + bfx\n",
    "\n",
    "            #using indices_dict we can now find the index that corresponds to this output\n",
    "            column = getDecimalNo(result)\n",
    "            row = getDecimalNo(i)\n",
    "            #now using the target indiex we can create a bit pattern with all 0s and 1 at the target index position\n",
    "            Uf[row][column] = 1        \n",
    "        return Uf\n",
    "    \n",
    "    '''\n",
    "    Given a function and n qubits. This function will verify if the Uf matrix \n",
    "    generated for this function matches the expected output. \n",
    "    i.e., it checks if Uf|x1x2..xn>|b> = |x1x2..xn> |b+f(x)>\n",
    "    '''\n",
    "    def verifyUf(self,debug=False):\n",
    "        \n",
    "        UfMatrix = self.getUf()\n",
    "        if debug:\n",
    "            print(\"\\nUfMatrix for function \\n\"+str(UfMatrix)+\"\\n\")\n",
    "\n",
    "        inputs = getAllPossibleNBitStrings(self.__n+1)\n",
    "        valid = True\n",
    "\n",
    "        for i in inputs:\n",
    "            inputBitVector = getQubitVector(i)\n",
    "\n",
    "            if debug:\n",
    "                print(\"Input BitString {}\".format(i))\n",
    "                print(\"Input BitVector {}\\n\".format(inputBitVector))\n",
    "\n",
    "            functionOutput = self.getFunctionResult(i[0:self.__n],i[self.__n])\n",
    "            UfOutput = np.matmul(UfMatrix,inputBitVector)\n",
    "\n",
    "            if debug:\n",
    "                print(\"\\tUf Output {}\".format(UfOutput))\n",
    "                print(\"\\t F Output {}\\n\".format(functionOutput))\n",
    "\n",
    "            if np.array_equal(UfOutput,functionOutput) is not True:\n",
    "                print(\"ERROR FOR {}\\n\".format(i))\n",
    "                valid=False\n",
    "\n",
    "        return valid"
   ]
  },
  {
   "cell_type": "markdown",
   "metadata": {},
   "source": [
    "## Bernstein Vazirani Function Object\n",
    "A subclass of the function object, this creates a function object for the Bernstein-Vazirani Algorithm."
   ]
  },
  {
   "cell_type": "code",
   "execution_count": 3,
   "metadata": {},
   "outputs": [],
   "source": [
    "import random\n",
    "\n",
    "class BernsteinVaziraniFunction(FunctionObject):\n",
    "\n",
    "    '''\n",
    "    Initializes a function object with the passed in a and b values.\n",
    "    If no a and b values are passed, \n",
    "    it will initialize 'a' to a random n-bit string of 0s and 1s \n",
    "    and b to 0 or 1.\n",
    "    '''\n",
    "    def __init__(self,n,a=None,b=None):\n",
    "        if a is None:\n",
    "            self.initRandomAandBValues(n)  \n",
    "        else:\n",
    "            self.__a = a\n",
    "            #print(\"a during creation of BVF: \",self.__a)\n",
    "            self.__b = b\n",
    "        FunctionObject.__init__(self, self.fx, n) \n",
    "        \n",
    "    '''\n",
    "    Initializes random values for a and b\n",
    "    '''\n",
    "    def initRandomAandBValues(self,n):\n",
    "        self.__b = random.randint(0,1)\n",
    "        self.__a = ''\n",
    "        for i in range(0,n):\n",
    "            self.__a+=str(random.randint(0,1))\n",
    "        #print(\"a during creation of BVF: \",self.__a)\n",
    "        return\n",
    "        \n",
    "    '''\n",
    "    Applies the function f(x) = a*x + b to the inputString\n",
    "    '''\n",
    "    def fx(self,inputString):\n",
    "        dotProduct = 0\n",
    "        for i in range(0,len(self.__a)):\n",
    "            dotProduct+= ((int)(inputString[i]))*((int)(self.__a[i]))\n",
    "        dotProduct = dotProduct % 2\n",
    "        return (dotProduct + self.__b) % 2\n",
    "    \n",
    "    def getA(self):\n",
    "        return self.__a\n",
    "    \n",
    "    def getB(self):\n",
    "        return self.__b"
   ]
  },
  {
   "cell_type": "markdown",
   "metadata": {},
   "source": [
    "## Quantum Circuit\n",
    "The common quantum circuit used for both Deutsch-Jozsa and Berstein-Vazirani Algorithm.\n",
    "\n",
    "<img src=\"circuit.png\" alt=\"Circuit\" style=\"width: 300px; float: left\"/>"
   ]
  },
  {
   "cell_type": "code",
   "execution_count": 4,
   "metadata": {},
   "outputs": [],
   "source": [
    "from pyquil import Program\n",
    "from pyquil.gates import *\n",
    "from pyquil import get_qc\n",
    "from pyquil.quilatom import unpack_qubit\n",
    "from pyquil.quil import DefGate\n",
    "    \n",
    "def runMainCircuit(functionObj,nTrials,debug=False):\n",
    "    p = Program()\n",
    "\n",
    "    #create a matrix representing Uf\n",
    "    UfMatrix = functionObj.getUf()\n",
    "    \n",
    "    #for a n bit function, we need n+1 qubits(one ancilla bit)\n",
    "    n = functionObj.getN()+1\n",
    "    \n",
    "    #qc_name = \"{}q-qvm\".format(n)\n",
    "    #qc = get_qc(qc_name)\n",
    "    \n",
    "    '''*************************************CHANGE START******************************************'''\n",
    "    lattice = 'Aspen-4-7Q-A'  # edit as necessary\n",
    "    qpu = get_qc(lattice)\n",
    "    #qpu.compiler.timeout = 600\n",
    "    qubits = qpu.device.qubits()\n",
    "    print(f'All qubits in this device in order: {qubits}')\n",
    "    #print(qpu.device.qubit_topology())\n",
    "    reqd_qubits=[]\n",
    "    \n",
    "    # includes helper bit due to n+1\n",
    "    \n",
    "    for i in range(0,n):\n",
    "         \n",
    "        reqd_qubits.append(qubits[i])\n",
    "    '''**************************************CHANGE OVER******************************************'''\n",
    "\n",
    "    #setting last qubit to 1\n",
    "    #p += X(n-1)\n",
    "    \n",
    "    #print(f\"Required_qubits: {reqd_qubits}\")\n",
    "    '''*************************************CHANGE START******************************************'''\n",
    "    p+=X(reqd_qubits[-1])\n",
    "    '''**************************************CHANGE OVER******************************************'''\n",
    "    \n",
    "    #adding Hadamard gates to all qubits\n",
    "    #for i in range(0,n):\n",
    "        #p += H(i)\n",
    "    '''*************************************CHANGE START******************************************'''\n",
    "    for i in reqd_qubits:\n",
    "        p+=H(i)  \n",
    "    '''**************************************CHANGE OVER******************************************'''\n",
    "    GateName = \"UF_GATE\"\n",
    "\n",
    "    #create a gate that uses the Uf matrix and pass all qubits to this as input \n",
    "    \n",
    "    uf_gate_definition = DefGate(GateName, UfMatrix)\n",
    "    #qubits = [unpack_qubit(i) for i in range(0,n)]\n",
    "    '''*************************************CHANGE START******************************************'''\n",
    "    qubits_for_gate = [unpack_qubit(i) for i in reqd_qubits]\n",
    "    '''**************************************CHANGE OVER******************************************'''\n",
    "    #adding Uf gate\n",
    "    #p+=Program(uf_gate_definition,Gate(name=GateName, params=[],qubits=qubits))\n",
    "    '''*************************************CHANGE START******************************************'''\n",
    "    p+=Program(uf_gate_definition,Gate(name=GateName, params=[],qubits=qubits_for_gate))\n",
    "    '''**************************************CHANGE OVER******************************************'''\n",
    "    #for i in range(0,n-1):\n",
    "        #p += H(i)\n",
    "    '''*************************************CHANGE START******************************************'''\n",
    "    for i in reqd_qubits[0:n-1]:\n",
    "        p += H(i)\n",
    "    '''**************************************CHANGE OVER******************************************'''\n",
    "    if debug:\n",
    "        print(p)\n",
    "        \n",
    "    try:\n",
    "        results = qpu.run_and_measure(p, trials=nTrials)\n",
    "    except TimeoutError:        \n",
    "        print(\"Timeout occured for n: {}\".format(n-1))\n",
    "        return []\n",
    "    #print(\"Results from run main circuit: \", results)\n",
    "    return results"
   ]
  },
  {
   "cell_type": "markdown",
   "metadata": {},
   "source": [
    "## Post-Process Quantum Circuit Results\n",
    "\n",
    "Process results of measurement of the above defined quantum circuit to gain information\n",
    "\n",
    "* a and b values in Bernstein-Vazirani"
   ]
  },
  {
   "cell_type": "code",
   "execution_count": 5,
   "metadata": {},
   "outputs": [],
   "source": [
    "import time\n",
    "\n",
    "nTrials = 1\n",
    "\n",
    "    \n",
    "'''\n",
    "Given a function f(x)=a.(x)+b and the number of qubits,\n",
    "this function uses the quantum circuit to identify the values of a and b\n",
    "'''\n",
    "def constructBVFunction(functionObj):\n",
    "    b = functionObj.applyFx(\"0\"*functionObj.getN())\n",
    "    a = \"\"\n",
    "    start = time.time()\n",
    "    results = runMainCircuit(functionObj,nTrials)\n",
    "    end = time.time()\n",
    "    \n",
    "    if len(results) == 0:\n",
    "        return None,None,None\n",
    "    \n",
    "    timetaken = end-start\n",
    "    keys= list(results.keys())[0:functionObj.getN()]\n",
    "    #print(\"KEYS: \", keys)\n",
    "    for i in keys:\n",
    "        a+=str(results[i][0])\n",
    "    #print(\"a from construct object: \",a)\n",
    "    return a,b,timetaken"
   ]
  },
  {
   "cell_type": "markdown",
   "metadata": {},
   "source": [
    "## Experiments with Quantum Circuits"
   ]
  },
  {
   "cell_type": "code",
   "execution_count": 6,
   "metadata": {},
   "outputs": [],
   "source": [
    "'''\n",
    "Driver that verifies the validity of the quantum circuits for different F configurations.\n",
    "Here F is randomly initialized as ax+b where a is a bit-string of size n, randomly initialized\n",
    "and b is randomly initialized to 0 or 1\n",
    "'''\n",
    "class BernsteinVaziraniDriver():\n",
    "    def __init__(self,n):\n",
    "        self.functionObj = BernsteinVaziraniFunction(n)\n",
    "        \n",
    "    def runAndVerifyQuantumCircuit(self,debug=False):\n",
    "        print(\"*\"*20)\n",
    "        if debug:\n",
    "            print(\"Verified that the created Uf matrix is valid: {}\".format(balancedFxN2Object.verifyUf()))\n",
    "\n",
    "        a,b,circuitRunTime = constructBVFunction(self.functionObj)\n",
    "        \n",
    "        \n",
    "        if a is None:\n",
    "            return\n",
    "        \n",
    "        assert a == self.functionObj.getA()\n",
    "        assert b == self.functionObj.getB()\n",
    "        print(\"N : {} , A: {}, B: {}, Time : {}\".format(self.functionObj.getN(), a,b, circuitRunTime))\n",
    "        print(\"*\"*20)"
   ]
  },
  {
   "cell_type": "code",
   "execution_count": 31,
   "metadata": {},
   "outputs": [
    {
     "name": "stdout",
     "output_type": "stream",
     "text": [
      "********************\n",
      "All qubits in this device in order: [0, 1, 2, 7, 13, 14, 15]\n",
      "N : 1 , A: 0, B: 0, Time : 0.478557825088501\n",
      "********************\n"
     ]
    }
   ],
   "source": [
    "BernsteinVaziraniDriver(1).runAndVerifyQuantumCircuit()"
   ]
  },
  {
   "cell_type": "code",
   "execution_count": 26,
   "metadata": {},
   "outputs": [
    {
     "name": "stdout",
     "output_type": "stream",
     "text": [
      "********************\n",
      "All qubits in this device in order: [0, 1, 2, 7, 13, 14, 15]\n",
      "N : 1 , A: 1, B: 1, Time : 0.46473264694213867\n",
      "********************\n"
     ]
    }
   ],
   "source": [
    "BernsteinVaziraniDriver(1).runAndVerifyQuantumCircuit()"
   ]
  },
  {
   "cell_type": "code",
   "execution_count": 13,
   "metadata": {},
   "outputs": [
    {
     "name": "stdout",
     "output_type": "stream",
     "text": [
      "********************\n",
      "All qubits in this device in order: [0, 1, 2, 7, 13, 14, 15]\n",
      "N : 2 , A: 01, B: 0, Time : 0.7405903339385986\n",
      "********************\n"
     ]
    }
   ],
   "source": [
    "BernsteinVaziraniDriver(2).runAndVerifyQuantumCircuit()"
   ]
  },
  {
   "cell_type": "code",
   "execution_count": 25,
   "metadata": {},
   "outputs": [
    {
     "name": "stdout",
     "output_type": "stream",
     "text": [
      "********************\n",
      "All qubits in this device in order: [0, 1, 2, 7, 13, 14, 15]\n",
      "N : 3 , A: 000, B: 0, Time : 0.45258593559265137\n",
      "********************\n"
     ]
    }
   ],
   "source": [
    "BernsteinVaziraniDriver(3).runAndVerifyQuantumCircuit()"
   ]
  },
  {
   "cell_type": "code",
   "execution_count": 23,
   "metadata": {},
   "outputs": [
    {
     "name": "stdout",
     "output_type": "stream",
     "text": [
      "********************\n",
      "All qubits in this device in order: [0, 1, 2, 7, 13, 14, 15]\n",
      "N : 4 , A: 0000, B: 0, Time : 0.48230767250061035\n",
      "********************\n"
     ]
    }
   ],
   "source": [
    "BernsteinVaziraniDriver(4).runAndVerifyQuantumCircuit()"
   ]
  },
  {
   "cell_type": "code",
   "execution_count": 32,
   "metadata": {},
   "outputs": [
    {
     "name": "stdout",
     "output_type": "stream",
     "text": [
      "********************\n",
      "All qubits in this device in order: [0, 1, 2, 7, 13, 14, 15]\n",
      "Timeout occured for n: 4\n"
     ]
    }
   ],
   "source": [
    "BernsteinVaziraniDriver(4).runAndVerifyQuantumCircuit()"
   ]
  },
  {
   "cell_type": "code",
   "execution_count": 29,
   "metadata": {},
   "outputs": [
    {
     "name": "stdout",
     "output_type": "stream",
     "text": [
      "********************\n",
      "All qubits in this device in order: [0, 1, 2, 7, 13, 14, 15]\n",
      "Timeout occured for n: 5\n"
     ]
    }
   ],
   "source": [
    "BernsteinVaziraniDriver(5).runAndVerifyQuantumCircuit()"
   ]
  },
  {
   "cell_type": "code",
   "execution_count": 28,
   "metadata": {},
   "outputs": [
    {
     "name": "stdout",
     "output_type": "stream",
     "text": [
      "********************\n",
      "All qubits in this device in order: [0, 1, 2, 7, 13, 14, 15]\n",
      "Timeout occured for n: 6\n"
     ]
    }
   ],
   "source": [
    "BernsteinVaziraniDriver(6).runAndVerifyQuantumCircuit()"
   ]
  }
 ],
 "metadata": {
  "kernelspec": {
   "display_name": "Python 3",
   "language": "python",
   "name": "python3"
  },
  "language_info": {
   "codemirror_mode": {
    "name": "ipython",
    "version": 3
   },
   "file_extension": ".py",
   "mimetype": "text/x-python",
   "name": "python",
   "nbconvert_exporter": "python",
   "pygments_lexer": "ipython3",
   "version": "3.7.1"
  }
 },
 "nbformat": 4,
 "nbformat_minor": 2
}
