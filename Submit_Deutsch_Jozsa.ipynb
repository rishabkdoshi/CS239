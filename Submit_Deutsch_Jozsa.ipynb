{
 "cells": [
  {
   "cell_type": "markdown",
   "metadata": {},
   "source": [
    "## Defining Common Util Functions"
   ]
  },
  {
   "cell_type": "code",
   "execution_count": 1,
   "metadata": {},
   "outputs": [],
   "source": [
    "'''\n",
    "Takes a qubitString as input and returns a matrix \n",
    "that represents the qubit in the standard basis.\n",
    "Ex: |00> = [1,0,0,0]\n",
    "'''\n",
    "def getQubitVector(bitString):\n",
    "    bitDict = {}\n",
    "    bitDict['0'] = np.array([1 , 0])\n",
    "    bitDict['1'] = np.array([0 , 1])\n",
    "    matrix = [1]\n",
    "    \n",
    "    for c in bitString:\n",
    "        matrix = np.kron(matrix,bitDict[c])\n",
    "    return matrix\n",
    "\n",
    "'''\n",
    "Given a bitstring, return the decimal number \n",
    "represented by the bitstring\n",
    "'''\n",
    "def getDecimalNo(bitString):\n",
    "    val = 0\n",
    "    n = len(bitString)\n",
    "    for i in range(0,n):\n",
    "        val = val + (2**i)*(int)(bitString[-i-1])\n",
    "    return val\n",
    "\n",
    "'''\n",
    "Given a value of n, returns all possible bit-strings of size n.\n",
    "This function will return a list of 2^n bit strings\n",
    "'''\n",
    "def getAllPossibleNBitStrings(n):\n",
    "    if n==1:\n",
    "        return ['0','1']\n",
    "    \n",
    "    children = getAllPossibleNBitStrings(n-1)\n",
    "    result = []\n",
    "    for i in children:\n",
    "        result.append('0'+i)\n",
    "        result.append('1'+i)\n",
    "    return result"
   ]
  },
  {
   "cell_type": "markdown",
   "metadata": {},
   "source": [
    "## Common function object. \n",
    "This is the base class and all functions Deutsch-Jozsa (balanced, constant), Bernstein-Vazirani(different a and b values) inhert from this class"
   ]
  },
  {
   "cell_type": "code",
   "execution_count": 2,
   "metadata": {},
   "outputs": [],
   "source": [
    "import numpy as np\n",
    "\n",
    "class FunctionObject:\n",
    "    def __init__(self,fx,n):\n",
    "        self.__fx = fx\n",
    "        self.__n = n\n",
    "        self.__Uf = self.__createUf()\n",
    "    \n",
    "    '''\n",
    "    Apply the function on the given input.\n",
    "    '''\n",
    "    def applyFx(self,input):\n",
    "        return self.__fx(input)\n",
    "        \n",
    "    '''\n",
    "    The N value which signifies the no. of qubits.\n",
    "    '''\n",
    "    def getN(self):\n",
    "        return self.__n\n",
    "    \n",
    "    '''\n",
    "    The Uf matrix which represents the oracle for this function\n",
    "    '''\n",
    "    def getUf(self):\n",
    "        return self.__Uf\n",
    "    \n",
    "    '''\n",
    "    Given the function to execute, and the qubits |x1x2..xn> and the ancilla|b>.\n",
    "    This function will return a bit vector representing |x1x2..xn> |b+f(x)>\n",
    "    '''\n",
    "    def getFunctionResult(self,x,ancilla):\n",
    "        fx = self.applyFx(x)\n",
    "        newAncilla = str((((int)(ancilla) + fx)%2))\n",
    "        result = x+newAncilla\n",
    "        return getQubitVector(result)\n",
    "    \n",
    "    '''\n",
    "    Using pointer to f(x) and n denoting the no. of qubits,\n",
    "    it returns an oracle matrix Uf of size 2^(n+1)x2^(n+1) which\n",
    "    can be used in a Deutsch-Jozsa or Bernstein-Vazirani circuit\n",
    "    '''\n",
    "    def __createUf(self):\n",
    "        Uf = np.zeros((2**(self.__n+1),2**(self.__n+1)))    \n",
    "    \n",
    "        #this dictionary represents the correspondence between bit combinations and Uf indices\n",
    "        indices_dict = {}\n",
    "        counter = 0\n",
    "\n",
    "        inputs = getAllPossibleNBitStrings(self.__n+1)\n",
    "\n",
    "        for i in inputs:\n",
    "            #input to the function is the first n bits of the elements (bit patterns) from the dictionary\n",
    "            x = i[0:self.__n]\n",
    "\n",
    "            #fx represents the output of function f given the input x\n",
    "            fx = str(self.applyFx(x))\n",
    "\n",
    "            #b is the last bit of the bit pattern in the dictionary item\n",
    "            b = i[self.__n]\n",
    "\n",
    "            #below we have the (f(x) + b) mod 2\n",
    "            if(b==fx):\n",
    "                bfx = '0'\n",
    "            else:\n",
    "                bfx = '1'\n",
    "                # print(bfx)\n",
    "\n",
    "            #the final bit string is the concatenation of the input x and bfx\n",
    "            result = x + bfx\n",
    "\n",
    "            #using indices_dict we can now find the index that corresponds to this output\n",
    "            column = getDecimalNo(result)\n",
    "            row = getDecimalNo(i)\n",
    "            #now using the target indiex we can create a bit pattern with all 0s and 1 at the target index position\n",
    "            Uf[row][column] = 1        \n",
    "        return Uf\n",
    "    \n",
    "    '''\n",
    "    Given a function and n qubits. This function will verify if the Uf matrix \n",
    "    generated for this function matches the expected output. \n",
    "    i.e., it checks if Uf|x1x2..xn>|b> = |x1x2..xn> |b+f(x)>\n",
    "    '''\n",
    "    def verifyUf(self,debug=False):\n",
    "        \n",
    "        UfMatrix = self.getUf()\n",
    "        if debug:\n",
    "            print(\"\\nUfMatrix for function \\n\"+str(UfMatrix)+\"\\n\")\n",
    "\n",
    "        inputs = getAllPossibleNBitStrings(self.__n+1)\n",
    "        valid = True\n",
    "\n",
    "        for i in inputs:\n",
    "            inputBitVector = getQubitVector(i)\n",
    "\n",
    "            if debug:\n",
    "                print(\"Input BitString {}\".format(i))\n",
    "                print(\"Input BitVector {}\\n\".format(inputBitVector))\n",
    "\n",
    "            functionOutput = self.getFunctionResult(i[0:self.__n],i[self.__n])\n",
    "            UfOutput = np.matmul(UfMatrix,inputBitVector)\n",
    "\n",
    "            if debug:\n",
    "                print(\"\\tUf Output {}\".format(UfOutput))\n",
    "                print(\"\\t F Output {}\\n\".format(functionOutput))\n",
    "\n",
    "            if np.array_equal(UfOutput,functionOutput) is not True:\n",
    "                print(\"ERROR FOR {}\\n\".format(i))\n",
    "                valid=False\n",
    "\n",
    "        return valid"
   ]
  },
  {
   "cell_type": "markdown",
   "metadata": {},
   "source": [
    "## Deutsch Jozsa Function Object\n",
    "A subclass of the function object, this creates a function object for the Deutsch-Jozssa Algorithm."
   ]
  },
  {
   "cell_type": "code",
   "execution_count": 3,
   "metadata": {},
   "outputs": [],
   "source": [
    "import random\n",
    "\n",
    "class DeutschJozsaFunction(FunctionObject):\n",
    "    \n",
    "    '''\n",
    "    Initializes a function object with the passed in fx and ftype values.\n",
    "    If no fx and ftype values are passed, \n",
    "    it will create a balanced or constant function at random and initialize it\n",
    "    '''\n",
    "    def __init__(self,n, fx=None,ftype=None):\n",
    "        if fx is None:\n",
    "            functionObj = self.createRandomDeutschJozsaFunction(n)\n",
    "            fx = functionObj.fx\n",
    "            self.ftype = functionObj.getFunctionType()\n",
    "        else:\n",
    "            self.ftype = ftype\n",
    "        FunctionObject.__init__(self, fx, n)        \n",
    "        \n",
    "    '''\n",
    "    Randomly create a balanced or constant function\n",
    "    '''    \n",
    "    def createRandomDeutschJozsaFunction(self,n):\n",
    "        fTypeOrdinal = random.randint(0,1)\n",
    "        if fTypeOrdinal == 0:\n",
    "            return BalancedFunction(n)\n",
    "        else:\n",
    "            return ConstantFunction(n)\n",
    "        \n",
    "    '''\n",
    "    CONSTANT or BALANCED based on function type \n",
    "    '''\n",
    "    def getType(self):\n",
    "        return self.ftype\n",
    "    \n",
    "\n",
    "class BalancedFunction(DeutschJozsaFunction):\n",
    "    \n",
    "    def __init__(self,n):\n",
    "        # a random bit chosen from 0 to n-1 which will be \n",
    "        # 0 for half inputs and 1 for other half inputs\n",
    "        self.decisionBit = random.randint(0,n-1)\n",
    "        \n",
    "    def fx(self,inputString):\n",
    "        if inputString[self.decisionBit] == '1':\n",
    "            return 1\n",
    "        else:\n",
    "            return 0\n",
    "    \n",
    "    def getFunctionType(self):\n",
    "        return \"BALANCED\"\n",
    "    \n",
    "class ConstantFunction(DeutschJozsaFunction):\n",
    "    def __init__(self,n):\n",
    "        # a random int 0 or 1, which will be the output of this constant function\n",
    "        self.result = random.randint(0,1)\n",
    "        \n",
    "    def fx(self,inputString):\n",
    "        return self.result\n",
    "    \n",
    "    def getFunctionType(self):\n",
    "        return \"CONSTANT\""
   ]
  },
  {
   "cell_type": "markdown",
   "metadata": {},
   "source": [
    "## Quantum Circuit\n",
    "The common quantum circuit used for both Deutsch-Jozsa and Berstein-Vazirani Algorithm.\n",
    "\n",
    "<img src=\"circuit.png\" alt=\"Circuit\" style=\"width: 300px; float: left\"/>"
   ]
  },
  {
   "cell_type": "code",
   "execution_count": 4,
   "metadata": {},
   "outputs": [],
   "source": [
    "from pyquil import Program\n",
    "from pyquil.gates import *\n",
    "from pyquil import get_qc\n",
    "from pyquil.quilatom import unpack_qubit\n",
    "from pyquil.quil import DefGate\n",
    "    \n",
    "def runMainCircuit(functionObj,nTrials,debug=False):\n",
    "    p = Program()\n",
    "\n",
    "    #create a matrix representing Uf\n",
    "    UfMatrix = functionObj.getUf()\n",
    "    \n",
    "    #for a n bit function, we need n+1 qubits(one ancilla bit)\n",
    "    n = functionObj.getN()+1\n",
    "    \n",
    "    qc_name = \"{}q-qvm\".format(n)\n",
    "    qc = get_qc(qc_name)\n",
    "\n",
    "    #setting last qubit to 1\n",
    "    p += X(n-1)\n",
    "    \n",
    "    #adding Hadamard gates to all qubits\n",
    "    for i in range(0,n):\n",
    "        p += H(i)\n",
    "\n",
    "    GateName = \"UF_GATE\"\n",
    "\n",
    "    #create a gate that uses the Uf matrix and pass all qubits to this as input \n",
    "    uf_gate_definition = DefGate(GateName, UfMatrix)\n",
    "    qubits = [unpack_qubit(i) for i in range(0,n)]\n",
    "\n",
    "    #adding Uf gate\n",
    "    p+=Program(uf_gate_definition,Gate(name=GateName, params=[],qubits=qubits))\n",
    "\n",
    "    for i in range(0,n-1):\n",
    "        p += H(i)\n",
    "\n",
    "    if debug:\n",
    "        print(p)\n",
    "        \n",
    "    try:\n",
    "        results = qc.run_and_measure(p, trials=nTrials)\n",
    "    except TimeoutError:        \n",
    "        print(\"Timeout occured for n: {}\".format(n-1))\n",
    "        return []\n",
    "        \n",
    "    return results"
   ]
  },
  {
   "cell_type": "markdown",
   "metadata": {},
   "source": [
    "## Post-Process Quantum Circuit Results\n",
    "\n",
    "Process results of measurement of the above defined quantum circuit to gain information\n",
    "\n",
    "* Function Type in Deutsch-Jozsa\n",
    "* a and b values in Bernstein-Vazirani"
   ]
  },
  {
   "cell_type": "code",
   "execution_count": 5,
   "metadata": {},
   "outputs": [],
   "source": [
    "import time\n",
    "\n",
    "nTrials = 1\n",
    "\n",
    "'''\n",
    "Given a Deutsch-Jozsa functionObject\n",
    "this function returns if its balanced or constant\n",
    "'''\n",
    "def isBalancedOrConstant(functionObj):\n",
    "    start = time.time()\n",
    "    results = runMainCircuit(functionObj,nTrials)\n",
    "    end = time.time()\n",
    "    constant = True\n",
    "    \n",
    "    if len(results) == 0:\n",
    "        return None,None\n",
    "    \n",
    "    for i in range(0,functionObj.getN()):\n",
    "        if results[i][0] != 0:\n",
    "            constant = False\n",
    "            break\n",
    "    \n",
    "    timetaken = end-start\n",
    "    \n",
    "    if constant:\n",
    "        return \"CONSTANT\",timetaken\n",
    "    else:\n",
    "        return \"BALANCED\",timetaken"
   ]
  },
  {
   "cell_type": "markdown",
   "metadata": {},
   "source": [
    "## Experiments with Quantum Circuits"
   ]
  },
  {
   "cell_type": "code",
   "execution_count": 6,
   "metadata": {},
   "outputs": [],
   "source": [
    "'''\n",
    "Driver that verifies the validity of the quantum circuits for different F configurations.\n",
    "Here F is either constant or balanced\n",
    "'''\n",
    "class DeutschJozsaDriver():\n",
    "    def __init__(self,n,fx,fType):\n",
    "        self.functionObj = DeutschJozsaFunction(n,fx,fType)\n",
    "        \n",
    "    def runAndVerifyQuantumCircuit(self,debug=False):\n",
    "        print(\"*\"*20)\n",
    "        if debug:\n",
    "            print(\"Verified that the created Uf matrix is valid: {}\".format(balancedFxN2Object.verifyUf()))\n",
    "\n",
    "        fType,circuitRunTime = isBalancedOrConstant(self.functionObj)\n",
    "        if fType is None:\n",
    "            return\n",
    "        assert fType == self.functionObj.getType()\n",
    "        print(\"N : {} , FnType: {}, Time : {}\".format(self.functionObj.getN(), self.functionObj.getType(), circuitRunTime))\n",
    "        print(\"*\"*20)"
   ]
  },
  {
   "cell_type": "code",
   "execution_count": 7,
   "metadata": {},
   "outputs": [],
   "source": [
    "decisionBit = 1\n",
    "\n",
    "def constantFunction(x):\n",
    "    return 1\n",
    "\n",
    "def balancedFunction(x):\n",
    "    if x[decisionBit] == '1':\n",
    "        return 1\n",
    "    else:\n",
    "        return 0"
   ]
  },
  {
   "cell_type": "markdown",
   "metadata": {},
   "source": [
    "## Simulation 1"
   ]
  },
  {
   "cell_type": "code",
   "execution_count": 8,
   "metadata": {},
   "outputs": [
    {
     "name": "stdout",
     "output_type": "stream",
     "text": [
      "********************\n",
      "N : 2 , FnType: CONSTANT, Time : 0.21174073219299316\n",
      "********************\n",
      "********************\n",
      "N : 3 , FnType: CONSTANT, Time : 0.6567409038543701\n",
      "********************\n",
      "********************\n",
      "N : 4 , FnType: CONSTANT, Time : 3.1011033058166504\n",
      "********************\n",
      "********************\n",
      "N : 5 , FnType: CONSTANT, Time : 10.710642099380493\n",
      "********************\n",
      "********************\n",
      "Timeout occured for n: 6\n"
     ]
    }
   ],
   "source": [
    "DeutschJozsaDriver(2,constantFunction,'CONSTANT').runAndVerifyQuantumCircuit()\n",
    "DeutschJozsaDriver(3,constantFunction,'CONSTANT').runAndVerifyQuantumCircuit()\n",
    "DeutschJozsaDriver(4,constantFunction,'CONSTANT').runAndVerifyQuantumCircuit()\n",
    "DeutschJozsaDriver(5,constantFunction,'CONSTANT').runAndVerifyQuantumCircuit()\n",
    "DeutschJozsaDriver(6,constantFunction,'CONSTANT').runAndVerifyQuantumCircuit()"
   ]
  },
  {
   "cell_type": "code",
   "execution_count": 9,
   "metadata": {},
   "outputs": [
    {
     "name": "stdout",
     "output_type": "stream",
     "text": [
      "********************\n",
      "N : 2 , FnType: BALANCED, Time : 0.3106560707092285\n",
      "********************\n",
      "********************\n",
      "N : 3 , FnType: BALANCED, Time : 0.9674010276794434\n",
      "********************\n",
      "********************\n",
      "N : 4 , FnType: BALANCED, Time : 2.482701063156128\n",
      "********************\n",
      "********************\n",
      "N : 5 , FnType: BALANCED, Time : 7.992653846740723\n",
      "********************\n",
      "********************\n",
      "Timeout occured for n: 6\n"
     ]
    }
   ],
   "source": [
    "DeutschJozsaDriver(2,balancedFunction,'BALANCED').runAndVerifyQuantumCircuit()\n",
    "DeutschJozsaDriver(3,balancedFunction,'BALANCED').runAndVerifyQuantumCircuit()\n",
    "DeutschJozsaDriver(4,balancedFunction,'BALANCED').runAndVerifyQuantumCircuit()\n",
    "DeutschJozsaDriver(5,balancedFunction,'BALANCED').runAndVerifyQuantumCircuit()\n",
    "DeutschJozsaDriver(6,balancedFunction,'BALANCED').runAndVerifyQuantumCircuit()"
   ]
  },
  {
   "cell_type": "markdown",
   "metadata": {},
   "source": [
    "## Simulation 2"
   ]
  },
  {
   "cell_type": "code",
   "execution_count": 10,
   "metadata": {},
   "outputs": [
    {
     "name": "stdout",
     "output_type": "stream",
     "text": [
      "********************\n",
      "N : 2 , FnType: CONSTANT, Time : 0.1697862148284912\n",
      "********************\n",
      "********************\n",
      "N : 3 , FnType: CONSTANT, Time : 0.7368488311767578\n",
      "********************\n",
      "********************\n",
      "N : 4 , FnType: CONSTANT, Time : 3.741197109222412\n",
      "********************\n",
      "********************\n",
      "N : 5 , FnType: CONSTANT, Time : 15.060144901275635\n",
      "********************\n",
      "********************\n",
      "Timeout occured for n: 6\n"
     ]
    }
   ],
   "source": [
    "DeutschJozsaDriver(2,constantFunction,'CONSTANT').runAndVerifyQuantumCircuit()\n",
    "DeutschJozsaDriver(3,constantFunction,'CONSTANT').runAndVerifyQuantumCircuit()\n",
    "DeutschJozsaDriver(4,constantFunction,'CONSTANT').runAndVerifyQuantumCircuit()\n",
    "DeutschJozsaDriver(5,constantFunction,'CONSTANT').runAndVerifyQuantumCircuit()\n",
    "DeutschJozsaDriver(6,constantFunction,'CONSTANT').runAndVerifyQuantumCircuit()"
   ]
  },
  {
   "cell_type": "code",
   "execution_count": 11,
   "metadata": {},
   "outputs": [
    {
     "name": "stdout",
     "output_type": "stream",
     "text": [
      "********************\n",
      "N : 2 , FnType: BALANCED, Time : 0.27001500129699707\n",
      "********************\n",
      "********************\n",
      "N : 3 , FnType: BALANCED, Time : 0.8998048305511475\n",
      "********************\n",
      "********************\n",
      "N : 4 , FnType: BALANCED, Time : 2.42712664604187\n",
      "********************\n",
      "********************\n",
      "N : 5 , FnType: BALANCED, Time : 9.218302011489868\n",
      "********************\n",
      "********************\n",
      "Timeout occured for n: 6\n"
     ]
    }
   ],
   "source": [
    "DeutschJozsaDriver(2,balancedFunction,'BALANCED').runAndVerifyQuantumCircuit()\n",
    "DeutschJozsaDriver(3,balancedFunction,'BALANCED').runAndVerifyQuantumCircuit()\n",
    "DeutschJozsaDriver(4,balancedFunction,'BALANCED').runAndVerifyQuantumCircuit()\n",
    "DeutschJozsaDriver(5,balancedFunction,'BALANCED').runAndVerifyQuantumCircuit()\n",
    "DeutschJozsaDriver(6,balancedFunction,'BALANCED').runAndVerifyQuantumCircuit()"
   ]
  },
  {
   "cell_type": "markdown",
   "metadata": {},
   "source": [
    "## Simulation 3"
   ]
  },
  {
   "cell_type": "code",
   "execution_count": 12,
   "metadata": {},
   "outputs": [
    {
     "name": "stdout",
     "output_type": "stream",
     "text": [
      "********************\n",
      "N : 2 , FnType: CONSTANT, Time : 0.20206093788146973\n",
      "********************\n",
      "********************\n",
      "N : 3 , FnType: CONSTANT, Time : 0.711174726486206\n",
      "********************\n",
      "********************\n",
      "N : 4 , FnType: CONSTANT, Time : 3.558906078338623\n",
      "********************\n",
      "********************\n",
      "N : 5 , FnType: CONSTANT, Time : 10.934228897094727\n",
      "********************\n",
      "********************\n",
      "Timeout occured for n: 6\n"
     ]
    }
   ],
   "source": [
    "DeutschJozsaDriver(2,constantFunction,'CONSTANT').runAndVerifyQuantumCircuit()\n",
    "DeutschJozsaDriver(3,constantFunction,'CONSTANT').runAndVerifyQuantumCircuit()\n",
    "DeutschJozsaDriver(4,constantFunction,'CONSTANT').runAndVerifyQuantumCircuit()\n",
    "DeutschJozsaDriver(5,constantFunction,'CONSTANT').runAndVerifyQuantumCircuit()\n",
    "DeutschJozsaDriver(6,constantFunction,'CONSTANT').runAndVerifyQuantumCircuit()"
   ]
  },
  {
   "cell_type": "code",
   "execution_count": 13,
   "metadata": {},
   "outputs": [
    {
     "name": "stdout",
     "output_type": "stream",
     "text": [
      "********************\n",
      "N : 2 , FnType: BALANCED, Time : 0.24223804473876953\n",
      "********************\n",
      "********************\n",
      "N : 3 , FnType: BALANCED, Time : 0.8012218475341797\n",
      "********************\n",
      "********************\n",
      "N : 4 , FnType: BALANCED, Time : 2.062359094619751\n",
      "********************\n",
      "********************\n",
      "N : 5 , FnType: BALANCED, Time : 6.7624711990356445\n",
      "********************\n",
      "********************\n",
      "Timeout occured for n: 6\n"
     ]
    }
   ],
   "source": [
    "DeutschJozsaDriver(2,balancedFunction,'BALANCED').runAndVerifyQuantumCircuit()\n",
    "DeutschJozsaDriver(3,balancedFunction,'BALANCED').runAndVerifyQuantumCircuit()\n",
    "DeutschJozsaDriver(4,balancedFunction,'BALANCED').runAndVerifyQuantumCircuit()\n",
    "DeutschJozsaDriver(5,balancedFunction,'BALANCED').runAndVerifyQuantumCircuit()\n",
    "DeutschJozsaDriver(6,balancedFunction,'BALANCED').runAndVerifyQuantumCircuit()"
   ]
  },
  {
   "cell_type": "markdown",
   "metadata": {},
   "source": [
    "## Simulation 4"
   ]
  },
  {
   "cell_type": "code",
   "execution_count": 14,
   "metadata": {},
   "outputs": [
    {
     "name": "stdout",
     "output_type": "stream",
     "text": [
      "********************\n",
      "N : 2 , FnType: CONSTANT, Time : 0.22355914115905762\n",
      "********************\n",
      "********************\n",
      "N : 3 , FnType: CONSTANT, Time : 0.6579940319061279\n",
      "********************\n",
      "********************\n",
      "N : 4 , FnType: CONSTANT, Time : 3.4084830284118652\n",
      "********************\n",
      "********************\n",
      "N : 5 , FnType: CONSTANT, Time : 11.094986915588379\n",
      "********************\n",
      "********************\n",
      "Timeout occured for n: 6\n"
     ]
    }
   ],
   "source": [
    "DeutschJozsaDriver(2,constantFunction,'CONSTANT').runAndVerifyQuantumCircuit()\n",
    "DeutschJozsaDriver(3,constantFunction,'CONSTANT').runAndVerifyQuantumCircuit()\n",
    "DeutschJozsaDriver(4,constantFunction,'CONSTANT').runAndVerifyQuantumCircuit()\n",
    "DeutschJozsaDriver(5,constantFunction,'CONSTANT').runAndVerifyQuantumCircuit()\n",
    "DeutschJozsaDriver(6,constantFunction,'CONSTANT').runAndVerifyQuantumCircuit()"
   ]
  },
  {
   "cell_type": "code",
   "execution_count": 15,
   "metadata": {},
   "outputs": [
    {
     "name": "stdout",
     "output_type": "stream",
     "text": [
      "********************\n",
      "N : 2 , FnType: BALANCED, Time : 0.27567100524902344\n",
      "********************\n",
      "********************\n",
      "N : 3 , FnType: BALANCED, Time : 0.8010940551757812\n",
      "********************\n",
      "********************\n",
      "N : 4 , FnType: BALANCED, Time : 2.1284379959106445\n",
      "********************\n",
      "********************\n",
      "N : 5 , FnType: BALANCED, Time : 7.078804016113281\n",
      "********************\n",
      "********************\n",
      "Timeout occured for n: 6\n"
     ]
    }
   ],
   "source": [
    "DeutschJozsaDriver(2,balancedFunction,'BALANCED').runAndVerifyQuantumCircuit()\n",
    "DeutschJozsaDriver(3,balancedFunction,'BALANCED').runAndVerifyQuantumCircuit()\n",
    "DeutschJozsaDriver(4,balancedFunction,'BALANCED').runAndVerifyQuantumCircuit()\n",
    "DeutschJozsaDriver(5,balancedFunction,'BALANCED').runAndVerifyQuantumCircuit()\n",
    "DeutschJozsaDriver(6,balancedFunction,'BALANCED').runAndVerifyQuantumCircuit()"
   ]
  },
  {
   "cell_type": "markdown",
   "metadata": {},
   "source": [
    "## Simulation 5"
   ]
  },
  {
   "cell_type": "code",
   "execution_count": 16,
   "metadata": {},
   "outputs": [
    {
     "name": "stdout",
     "output_type": "stream",
     "text": [
      "********************\n",
      "N : 2 , FnType: CONSTANT, Time : 0.13770699501037598\n",
      "********************\n",
      "********************\n",
      "N : 3 , FnType: CONSTANT, Time : 0.6705961227416992\n",
      "********************\n",
      "********************\n",
      "N : 4 , FnType: CONSTANT, Time : 3.2296841144561768\n",
      "********************\n",
      "********************\n",
      "N : 5 , FnType: CONSTANT, Time : 10.762120962142944\n",
      "********************\n",
      "********************\n",
      "Timeout occured for n: 6\n"
     ]
    }
   ],
   "source": [
    "DeutschJozsaDriver(2,constantFunction,'CONSTANT').runAndVerifyQuantumCircuit()\n",
    "DeutschJozsaDriver(3,constantFunction,'CONSTANT').runAndVerifyQuantumCircuit()\n",
    "DeutschJozsaDriver(4,constantFunction,'CONSTANT').runAndVerifyQuantumCircuit()\n",
    "DeutschJozsaDriver(5,constantFunction,'CONSTANT').runAndVerifyQuantumCircuit()\n",
    "DeutschJozsaDriver(6,constantFunction,'CONSTANT').runAndVerifyQuantumCircuit()"
   ]
  },
  {
   "cell_type": "code",
   "execution_count": 17,
   "metadata": {},
   "outputs": [
    {
     "name": "stdout",
     "output_type": "stream",
     "text": [
      "********************\n",
      "N : 2 , FnType: BALANCED, Time : 0.27384281158447266\n",
      "********************\n",
      "********************\n",
      "N : 3 , FnType: BALANCED, Time : 0.941065788269043\n",
      "********************\n",
      "********************\n",
      "N : 4 , FnType: BALANCED, Time : 2.1048312187194824\n",
      "********************\n",
      "********************\n",
      "N : 5 , FnType: BALANCED, Time : 7.171158075332642\n",
      "********************\n",
      "********************\n",
      "Timeout occured for n: 6\n"
     ]
    }
   ],
   "source": [
    "DeutschJozsaDriver(2,balancedFunction,'BALANCED').runAndVerifyQuantumCircuit()\n",
    "DeutschJozsaDriver(3,balancedFunction,'BALANCED').runAndVerifyQuantumCircuit()\n",
    "DeutschJozsaDriver(4,balancedFunction,'BALANCED').runAndVerifyQuantumCircuit()\n",
    "DeutschJozsaDriver(5,balancedFunction,'BALANCED').runAndVerifyQuantumCircuit()\n",
    "DeutschJozsaDriver(6,balancedFunction,'BALANCED').runAndVerifyQuantumCircuit()"
   ]
  },
  {
   "cell_type": "code",
   "execution_count": null,
   "metadata": {},
   "outputs": [],
   "source": []
  }
 ],
 "metadata": {
  "kernelspec": {
   "display_name": "Python 3",
   "language": "python",
   "name": "python3"
  },
  "language_info": {
   "codemirror_mode": {
    "name": "ipython",
    "version": 3
   },
   "file_extension": ".py",
   "mimetype": "text/x-python",
   "name": "python",
   "nbconvert_exporter": "python",
   "pygments_lexer": "ipython3",
   "version": "3.6.0"
  }
 },
 "nbformat": 4,
 "nbformat_minor": 2
}
