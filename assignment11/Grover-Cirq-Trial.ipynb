{
 "cells": [
  {
   "cell_type": "markdown",
   "metadata": {},
   "source": [
    "# Headers"
   ]
  },
  {
   "cell_type": "code",
   "execution_count": 1,
   "metadata": {},
   "outputs": [],
   "source": [
    "import numpy as np\n",
    "import time\n",
    "import itertools as itert\n",
    "import cirq"
   ]
  },
  {
   "cell_type": "markdown",
   "metadata": {},
   "source": [
    "# Input possibilities"
   ]
  },
  {
   "cell_type": "code",
   "execution_count": 2,
   "metadata": {},
   "outputs": [],
   "source": [
    "def get_possibilities (n):\n",
    "    # whole- entire set of possible n input values. Totally there are 2**n values.\n",
    "    whole=[]\n",
    "    # this will ensure that all binary values obtained have same length\n",
    "    max_binary_length= len(bin(2**n-1)[2:])\n",
    "    # creating binary values \n",
    "    for i in range(0, 2**n):\n",
    "        # this will represent actual binary value to be obtained\n",
    "        curr_binary=[0]*max_binary_length\n",
    "        # This gives current length of binary. Why is this required?\n",
    "        # SO bin(0) return 0b0 and bin(8) returns 0b1000-> different lengths. \n",
    "        # But we want all our binary values to have same length for simplicity \n",
    "        corresponding_binary= list(bin(i))[2:] # bin returns string, we are turning it into character array/list\n",
    "        # [2:] disregards the initial 0b in 0bx (returned by bin) and considers x which is the binary value  \n",
    "        curr_length= len(corresponding_binary)\n",
    "        for j in range(0, curr_length):\n",
    "            corresponding_binary[j]=int(corresponding_binary[j]) # converting character array to int array\n",
    "        # final binary value obtained\n",
    "        curr_binary[max_binary_length-curr_length:]= corresponding_binary\n",
    "        # adding this value as a possibility\n",
    "        whole.append(curr_binary)\n",
    "    print(\"Input Possibilities: \", whole)\n",
    "    return whole"
   ]
  },
  {
   "cell_type": "markdown",
   "metadata": {},
   "source": [
    "# Creating Matrices"
   ]
  },
  {
   "cell_type": "markdown",
   "metadata": {},
   "source": [
    "## -Z_0 for G"
   ]
  },
  {
   "cell_type": "code",
   "execution_count": 3,
   "metadata": {},
   "outputs": [],
   "source": [
    "def createz0 (n):\n",
    "    matrix_z= np.eye(2**(n))\n",
    "    matrix_z[0][0]=-1\n",
    "    #for i in range (0,2**n):\n",
    "        #matrix_z[i][i] *= (-1)\n",
    "    print (\" Minus Matrix Z0:\")\n",
    "    print(np.negative(matrix_z))\n",
    "    return np.negative(matrix_z)"
   ]
  },
  {
   "cell_type": "markdown",
   "metadata": {},
   "source": [
    "## Create Z_f"
   ]
  },
  {
   "cell_type": "code",
   "execution_count": 4,
   "metadata": {},
   "outputs": [],
   "source": [
    "class Uf:  \n",
    "    # multiple x st f(x)=1\n",
    "    def __function_generator(self,n):\n",
    "        # a- binary string of length n\n",
    "        #any one bit as 1  out of n bit\n",
    "        curr_index= np.random.randint(low=0,high=n,size=1)[0]\n",
    "        a=[0]*n\n",
    "        a[curr_index]=1\n",
    "        print (\"This is the (randomly chosen) value of a: \", a)\n",
    "        return a\n",
    "    # function with only one string st f(x)=1\n",
    "    def __unique_generator(self,n):\n",
    "        # a- binary string of length n\n",
    "        curr_a= np.random.randint(low=0,high=2,size=n)\n",
    "        print (\"This is the (randomly chosen) value of a: \", curr_a)\n",
    "        return curr_a\n",
    "\n",
    "    #this function creates the blackbox oracle Uf matrix for a given function f that is parameterised for input size n\n",
    "    def __blackboxUf(self,n,a,fn):\n",
    "        uf_matrix = np.eye(2**n)\n",
    "        all_binary= get_possibilities (n)\n",
    "        \n",
    "        #Function_generator\n",
    "        if fn==0:\n",
    "            #unique generator\n",
    "            for i in all_binary:\n",
    "                curr_ind= all_binary.index(i)\n",
    "                if (np.array_equal(a,i)):\n",
    "                    #|x> to -|x> when f(x)=1\n",
    "                    uf_matrix[curr_ind][curr_ind] *= (-1)  \n",
    "        else:\n",
    "            for i in range(0,2**n):\n",
    "                curr_dot_product=0\n",
    "                for k in range (0,n):\n",
    "                    curr_dot_product += a[k] * int(all_binary[i][k])\n",
    "                curr_dot_product %= 2\n",
    "                #|x> to -|x> when f(x)=1\n",
    "                if curr_dot_product == 1 :\n",
    "                    uf_matrix[i][i] *= (-1)\n",
    "        \n",
    "        print (\"UF\\n\", uf_matrix)\n",
    "        return uf_matrix\n",
    "    def createUf(self,n, fn):\n",
    "        #curr_a= self.__function_generator(n)\n",
    "        if (fn==0):\n",
    "            print (\"Only one x st f(x)=1\")\n",
    "            curr_a= self.__unique_generator(n)\n",
    "        else:\n",
    "            print (\"One or more x st f(x)=1\")\n",
    "            curr_a= self.__function_generator(n)\n",
    "        return self.__blackboxUf(n,curr_a,fn)"
   ]
  },
  {
   "cell_type": "markdown",
   "metadata": {},
   "source": [
    "# Creating Gate out of Matrices"
   ]
  },
  {
   "cell_type": "code",
   "execution_count": 5,
   "metadata": {},
   "outputs": [],
   "source": [
    "class Oracle(cirq.Gate):\n",
    "    def __init__(self, n, UfMatrix, name):\n",
    "        self.__n=n\n",
    "        self.__UfMatrix=UfMatrix\n",
    "        self.__name=name\n",
    "    def num_qubits(self):\n",
    "        return self.__n \n",
    "    def _unitary_(self):\n",
    "        # np array used\n",
    "        return np.squeeze(np.asarray(self.__UfMatrix))\n",
    "        \n",
    "    def __str__(self):\n",
    "        return self.__name"
   ]
  },
  {
   "cell_type": "markdown",
   "metadata": {},
   "source": [
    "# Main Circuit"
   ]
  },
  {
   "cell_type": "code",
   "execution_count": 6,
   "metadata": {},
   "outputs": [],
   "source": [
    "def runMainCircuit():\n",
    "   \n",
    "    # Taking the input n from the user\n",
    "    n= int(input(\"Enter length of function input [Don't include helper bit in n and ONLY Integer Values Allowed]: \"))\n",
    "    \n",
    "    # one extra bit as our helper bit \n",
    "    #n = n+1\n",
    "    \n",
    "    #Number of Iterations\n",
    "    num_of_iterations = max(1, int(round((np.pi/4)*np.sqrt(2**n)-1/2)))\n",
    "    \n",
    "    print(\"Number of iterations: \", num_of_iterations)\n",
    "\n",
    "    # creating an instance of Uf\n",
    "    uf = Uf()\n",
    "    \n",
    "    # defining n qubits\n",
    "    \n",
    "    qubits = cirq.LineQubit.range(n)\n",
    "    \n",
    "    # defining start of PyQuil program\n",
    "    c=cirq.Circuit()\n",
    "    \n",
    "    # Time taken by program needs to be checked.\n",
    "    start = time. time()\n",
    "    \n",
    "    # creating our Uf matrix\n",
    "    \n",
    "    # Selecting fn mapping: unique x or multiple x st f(x)=1\n",
    "    \n",
    "    fn_type=np.random.randint(low=0,high=2,size=1)[0]\n",
    "    \n",
    "    #creating uf or zf\n",
    "    \n",
    "    UfMatrix = uf.createUf(n,fn_type)\n",
    "    \n",
    "    #Zero Matrix\n",
    "    \n",
    "    matrix_z0= createz0(n)\n",
    "    \n",
    "    #Creating gates out of matrices obtained\n",
    "    \n",
    "    uf_zf= Oracle(n, UfMatrix, \"Zf\")\n",
    "    \n",
    "    \n",
    "    uf_z0= Oracle(n,matrix_z0, \"-Z0\")\n",
    "    \n",
    "    # adding Hadamard gates to all qubits\n",
    "    for i in range(0,n):\n",
    "        c.append([cirq.H(qubits[i])])\n",
    "    # adding Uf gate\n",
    "    for k in range(0,num_of_iterations):\n",
    "        print(\"Iteration no: \", k)\n",
    "        c.append(uf_zf(*qubits))\n",
    "        for i in range(0,n):\n",
    "                c.append([cirq.H(qubits[i])])\n",
    "        c.append(uf_z0(*qubits))\n",
    "        for i in range(0,n):\n",
    "                c.append([cirq.H(qubits[i])])\n",
    "    \n",
    "    \n",
    "    # Adding measurement gates \n",
    "    \n",
    "    for i in range(0,n):\n",
    "        c.append(cirq.measure(qubits[i]))\n",
    "        \n",
    "    print(\"Circuit used to solve problem: \")\n",
    "    print(c)\n",
    "    \n",
    "    simulator = cirq.Simulator()\n",
    "    \n",
    "    result = simulator.run(c, repetitions=5)\n",
    "    \n",
    "    print(\"Results: \")\n",
    "    print(result)\n",
    "    \n",
    "    end = time. time()\n",
    "    print(\"Time taken by program: \", end-start)"
   ]
  },
  {
   "cell_type": "markdown",
   "metadata": {},
   "source": [
    "# Testing"
   ]
  },
  {
   "cell_type": "markdown",
   "metadata": {},
   "source": [
    "## n=1 "
   ]
  },
  {
   "cell_type": "code",
   "execution_count": 7,
   "metadata": {
    "scrolled": true
   },
   "outputs": [
    {
     "name": "stdout",
     "output_type": "stream",
     "text": [
      "Enter length of function input [Don't include helper bit in n and ONLY Integer Values Allowed]: 1\n",
      "Number of iterations:  1\n",
      "One or more x st f(x)=1\n",
      "This is the (randomly chosen) value of a:  [1]\n",
      "Input Possibilities:  [[0], [1]]\n",
      "UF\n",
      " [[ 1.  0.]\n",
      " [ 0. -1.]]\n",
      " Minus Matrix Z0:\n",
      "[[ 1. -0.]\n",
      " [-0. -1.]]\n",
      "Iteration no:  0\n",
      "Circuit used to solve problem: \n",
      "0: ───H───Zf───H───-Z0───H───M───\n",
      "Results: \n",
      "0=10011\n",
      "Time taken by program:  0.02094888687133789\n"
     ]
    }
   ],
   "source": [
    "runMainCircuit()"
   ]
  },
  {
   "cell_type": "markdown",
   "metadata": {},
   "source": [
    "## n=2 (Only one x st f(x) allowed)"
   ]
  },
  {
   "cell_type": "code",
   "execution_count": 8,
   "metadata": {},
   "outputs": [
    {
     "name": "stdout",
     "output_type": "stream",
     "text": [
      "Enter length of function input [Don't include helper bit in n and ONLY Integer Values Allowed]: 2\n",
      "Number of iterations:  1\n",
      "Only one x st f(x)=1\n",
      "This is the (randomly chosen) value of a:  [0 1]\n",
      "Input Possibilities:  [[0, 0], [0, 1], [1, 0], [1, 1]]\n",
      "UF\n",
      " [[ 1.  0.  0.  0.]\n",
      " [ 0. -1.  0.  0.]\n",
      " [ 0.  0.  1.  0.]\n",
      " [ 0.  0.  0.  1.]]\n",
      " Minus Matrix Z0:\n",
      "[[ 1. -0. -0. -0.]\n",
      " [-0. -1. -0. -0.]\n",
      " [-0. -0. -1. -0.]\n",
      " [-0. -0. -0. -1.]]\n",
      "Iteration no:  0\n",
      "Circuit used to solve problem: \n",
      "0: ───H───Zf───H───-Z0───H───M───\n",
      "          │        │\n",
      "1: ───H───#2───H───#2────H───M───\n",
      "Results: \n",
      "0=00000\n",
      "1=11111\n",
      "Time taken by program:  0.01795482635498047\n"
     ]
    }
   ],
   "source": [
    "runMainCircuit()"
   ]
  },
  {
   "cell_type": "markdown",
   "metadata": {},
   "source": [
    "## n=2 (Multiple x st f(x)=1 allowed)"
   ]
  },
  {
   "cell_type": "code",
   "execution_count": 9,
   "metadata": {},
   "outputs": [
    {
     "name": "stdout",
     "output_type": "stream",
     "text": [
      "Enter length of function input [Don't include helper bit in n and ONLY Integer Values Allowed]: 2\n",
      "Number of iterations:  1\n",
      "One or more x st f(x)=1\n",
      "This is the (randomly chosen) value of a:  [1, 0]\n",
      "Input Possibilities:  [[0, 0], [0, 1], [1, 0], [1, 1]]\n",
      "UF\n",
      " [[ 1.  0.  0.  0.]\n",
      " [ 0.  1.  0.  0.]\n",
      " [ 0.  0. -1.  0.]\n",
      " [ 0.  0.  0. -1.]]\n",
      " Minus Matrix Z0:\n",
      "[[ 1. -0. -0. -0.]\n",
      " [-0. -1. -0. -0.]\n",
      " [-0. -0. -1. -0.]\n",
      " [-0. -0. -0. -1.]]\n",
      "Iteration no:  0\n",
      "Circuit used to solve problem: \n",
      "0: ───H───Zf───H───-Z0───H───M───\n",
      "          │        │\n",
      "1: ───H───#2───H───#2────H───M───\n",
      "Results: \n",
      "0=11001\n",
      "1=00010\n",
      "Time taken by program:  0.02393794059753418\n"
     ]
    }
   ],
   "source": [
    "runMainCircuit()"
   ]
  }
 ],
 "metadata": {
  "kernelspec": {
   "display_name": "Python 3",
   "language": "python",
   "name": "python3"
  },
  "language_info": {
   "codemirror_mode": {
    "name": "ipython",
    "version": 3
   },
   "file_extension": ".py",
   "mimetype": "text/x-python",
   "name": "python",
   "nbconvert_exporter": "python",
   "pygments_lexer": "ipython3",
   "version": "3.7.1"
  }
 },
 "nbformat": 4,
 "nbformat_minor": 2
}
